{
 "cells": [
  {
   "cell_type": "code",
   "execution_count": 2,
   "metadata": {},
   "outputs": [
    {
     "name": "stdout",
     "output_type": "stream",
     "text": [
      "2017-07-13 19:40:00\n"
     ]
    }
   ],
   "source": [
    "import datetime\n",
    "timestamp = datetime.datetime.fromtimestamp(1500000000)\n",
    "print(timestamp.strftime('%Y-%m-%d %H:%M:%S'))"
   ]
  },
  {
   "cell_type": "code",
   "execution_count": 25,
   "metadata": {},
   "outputs": [
    {
     "name": "stdout",
     "output_type": "stream",
     "text": [
      "Integer timestamp of 2024-12-31 23:59:57 datetime: 1735718397\n",
      "Integer timestamp of 2010-01-01 00:00:00 datetime: 1262332800\n"
     ]
    }
   ],
   "source": [
    "from datetime import datetime\n",
    "# curr_dt = '2024-12-31 23:59:59'\n",
    "dt1 = datetime.strptime('2024-12-31 23:59:57','%Y-%m-%d %H:%M:%S')\n",
    "timestamp = int(dt1.timestamp())\n",
    "dt2 = datetime.strptime('2010-01-01 00:00:00','%Y-%m-%d %H:%M:%S')\n",
    "timestamp = int(dt2.timestamp())\n",
    "\n",
    "print(f'Integer timestamp of {dt1} datetime: {dt1.timestamp():.0f}')\n",
    "print(f'Integer timestamp of {dt2} datetime: {dt2.timestamp():.0f}')\n"
   ]
  }
 ],
 "metadata": {
  "kernelspec": {
   "display_name": "Python 3",
   "language": "python",
   "name": "python3"
  },
  "language_info": {
   "codemirror_mode": {
    "name": "ipython",
    "version": 3
   },
   "file_extension": ".py",
   "mimetype": "text/x-python",
   "name": "python",
   "nbconvert_exporter": "python",
   "pygments_lexer": "ipython3",
   "version": "3.11.4"
  }
 },
 "nbformat": 4,
 "nbformat_minor": 2
}
