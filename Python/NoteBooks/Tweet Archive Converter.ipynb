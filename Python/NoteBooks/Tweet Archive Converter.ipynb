{
 "cells": [
  {
   "cell_type": "markdown",
   "metadata": {},
   "source": [
    "### Twitter Archive to CSV Converter"
   ]
  },
  {
   "cell_type": "code",
   "execution_count": 30,
   "metadata": {},
   "outputs": [
    {
     "name": "stdout",
     "output_type": "stream",
     "text": [
      "Done!\n"
     ]
    }
   ],
   "source": [
    "import os                           # For listing directories\n",
    "import json                         # For JSON-structured file reader\n",
    "from operator import itemgetter     # For sorting\n",
    "import csv                          # For loading to target CSV\n",
    "\n",
    "# Path to the tweet archives folder (data)\n",
    "path = '..//..//..//..//tweets'\n",
    "\n",
    "# Container for the end result\n",
    "tweets = []\n",
    "\n",
    "# Walk through the archived files\n",
    "for(root, dirs, files) in os.walk(path):\n",
    "    # Iterate the files\n",
    "    for file in files:\n",
    "        # Open each file\n",
    "        with open (f'{path}//{file}') as f:\n",
    "            # Skip the first line (variable assignment)\n",
    "            next(f)\n",
    "            for tweet in json.load(f):\n",
    "                # Create row variable\n",
    "                temp_tweet = []\n",
    "\n",
    "                # Tweet ID\n",
    "                temp_tweet.append(tweet[\"id_str\"])\n",
    "                # Tweet Link\n",
    "                temp_tweet.append(f'https://twitter.com/{tweet[\"user\"][\"screen_name\"]}/status/{tweet[\"id_str\"]}')\n",
    "                # Tweet ID\n",
    "                temp_tweet.append(tweet[\"created_at\"])\n",
    "                # Tweet Content\n",
    "                temp_tweet.append(tweet[\"text\"])\n",
    "\n",
    "                # Completed, add to master list\n",
    "                tweets.append(temp_tweet)\n",
    "\n",
    "# Redo the order since content of data files are unordered\n",
    "tweets = sorted(tweets, key=itemgetter(0))\n",
    "\n",
    "# Write into the target CSV\n",
    "with open('Tweet Collection.csv', 'w', newline='',encoding='utf-8') as file:\n",
    "    # Add proper header\n",
    "    csv_header = csv.DictWriter(file, delimiter=',', fieldnames=['Tweet ID', 'Tweet Link', 'Date','Tweet Content'])\n",
    "    csv_header.writeheader()\n",
    "\n",
    "    # Write file\n",
    "    csv_writer = csv.writer(file)\n",
    "    for i in tweets:\n",
    "        csv_writer.writerow(i)\n",
    "\n",
    "print('Done!')"
   ]
  }
 ],
 "metadata": {
  "kernelspec": {
   "display_name": "Python 3",
   "language": "python",
   "name": "python3"
  },
  "language_info": {
   "codemirror_mode": {
    "name": "ipython",
    "version": 3
   },
   "file_extension": ".py",
   "mimetype": "text/x-python",
   "name": "python",
   "nbconvert_exporter": "python",
   "pygments_lexer": "ipython3",
   "version": "3.11.4"
  }
 },
 "nbformat": 4,
 "nbformat_minor": 2
}
