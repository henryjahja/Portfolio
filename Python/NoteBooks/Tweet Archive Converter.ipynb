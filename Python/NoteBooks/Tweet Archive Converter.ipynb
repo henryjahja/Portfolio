{
 "cells": [
  {
   "cell_type": "markdown",
   "metadata": {},
   "source": [
    "### Twitter Archive to CSV Converter"
   ]
  },
  {
   "cell_type": "markdown",
   "metadata": {},
   "source": [
    "Old archive format"
   ]
  },
  {
   "cell_type": "code",
   "execution_count": 1,
   "metadata": {},
   "outputs": [
    {
     "name": "stdout",
     "output_type": "stream",
     "text": [
      "Done!\n"
     ]
    }
   ],
   "source": [
    "import os                           # For listing directories\n",
    "import json                         # For JSON-structured file reader\n",
    "from operator import itemgetter     # For sorting\n",
    "import csv                          # For loading to target CSV\n",
    "\n",
    "# Path to the tweet archives folder (data)\n",
    "path = '..//..//Data//tweets_old_format'\n",
    "\n",
    "# Container for the end result\n",
    "tweets = []\n",
    "\n",
    "# Walk through the archived files\n",
    "for(root, dirs, files) in os.walk(path):\n",
    "    # Iterate the files\n",
    "    for file in files:\n",
    "        # Open each file\n",
    "        with open (f'{path}//{file}') as f:\n",
    "            # Skip the first line (variable assignment)\n",
    "            next(f)\n",
    "            for tweet in json.load(f):\n",
    "                # Create row variable\n",
    "                temp_tweet = []\n",
    "\n",
    "                # Tweet ID\n",
    "                temp_tweet.append(tweet[\"id_str\"])\n",
    "                # Tweet Link\n",
    "                temp_tweet.append(f'https://twitter.com/{tweet[\"user\"][\"screen_name\"]}/status/{tweet[\"id_str\"]}')\n",
    "                # Tweet ID\n",
    "                temp_tweet.append(tweet[\"created_at\"])\n",
    "                # Tweet Content\n",
    "                temp_tweet.append(tweet[\"text\"])\n",
    "\n",
    "                # Completed, add to master list\n",
    "                tweets.append(temp_tweet)\n",
    "\n",
    "# Redo the order since content of data files are unordered\n",
    "tweets = sorted(tweets, key=itemgetter(0))\n",
    "\n",
    "# Write into the target CSV\n",
    "with open('..//..//Data//Private Data//Tweet Collection.csv', 'w', newline='',encoding='utf-8') as file:\n",
    "    # Add proper header\n",
    "    csv_header = csv.DictWriter(file, delimiter=',', fieldnames=['Tweet ID', 'Tweet Link', 'Date','Tweet Content'])\n",
    "    csv_header.writeheader()\n",
    "\n",
    "    # Write file\n",
    "    csv_writer = csv.writer(file)\n",
    "    for i in tweets:\n",
    "        csv_writer.writerow(i)\n",
    "\n",
    "print('Done!')"
   ]
  },
  {
   "cell_type": "markdown",
   "metadata": {},
   "source": [
    "New archive format"
   ]
  },
  {
   "cell_type": "code",
   "execution_count": 2,
   "metadata": {},
   "outputs": [
    {
     "name": "stdout",
     "output_type": "stream",
     "text": [
      "Generating CSV for 15,252 tweets...\n",
      "Done!\n"
     ]
    }
   ],
   "source": [
    "import json                         # For JSON-structured file reader\n",
    "from operator import itemgetter     # For sorting\n",
    "import csv                          # For loading to target CSV\n",
    "from datetime import datetime\n",
    "from sensitivevariable import twitter_username\n",
    "\n",
    "# Path to the tweet archives folder (data)\n",
    "path = '..//..//Data//Private Data//tweets_new_format.js'\n",
    "\n",
    "# Twitter/X Username (manual input)\n",
    "# username = 'elonmusk\n",
    "username = twitter_username\n",
    "\n",
    "# Container for the end result\n",
    "tweets = []\n",
    "\n",
    "# Load file\n",
    "with open (path,encoding='utf-8') as f:\n",
    "    loaded_file = f.read()\n",
    "\n",
    "    # Skip the variable assignment at the beginning of the file\n",
    "    file_in_string = loaded_file[loaded_file.index('['):]\n",
    "\n",
    "    # Load the string into JSON format\n",
    "    data = json.loads(file_in_string)\n",
    "\n",
    "    # Loop through the entries\n",
    "    for tweet in data:\n",
    "        # Create row variable\n",
    "        tweet_row = []\n",
    "\n",
    "        # Tweet ID\n",
    "        tweet_row.append(tweet['tweet']['id'])\n",
    "\n",
    "        # Tweet Date - Retrieve the date, but convert it from '%a %b %d %H:%M:%S %z %Y' format to '%Y-%m-%d %H:%M:%S %z %Z' format.\n",
    "        tweet_row.append(datetime.strptime(tweet['tweet']['created_at'], '%a %b %d %H:%M:%S %z %Y').strftime('%Y-%m-%d %H:%M:%S %z %Z'))\n",
    "\n",
    "        # Tweet Link\n",
    "        tweet_row.append(f'https://twitter.com/{username}/status/{tweet[\"tweet\"][\"id\"]}')\n",
    "\n",
    "        # Tweet Content\n",
    "        tweet_row.append(tweet['tweet']['full_text'])\n",
    "\n",
    "        # Mentioned Handles\n",
    "        mentioned_handles = []\n",
    "        for h in tweet['tweet']['entities']['user_mentions']:\n",
    "            mentioned_handles.append('@'+h['screen_name'])\n",
    "        tweet_row.append(', '.join(mentioned_handles))\n",
    "\n",
    "        # Via/Platform - Manually capture the content between first '>' and second '<'\n",
    "        tweet_row.append(tweet['tweet']['source'][tweet['tweet']['source'].index('>')+1:tweet['tweet']['source'][1:].index('<')+1])\n",
    "\n",
    "        # Favorite Count\n",
    "        tweet_row.append(tweet['tweet']['favorite_count'])\n",
    "\n",
    "        # Retweet Count\n",
    "        tweet_row.append(tweet['tweet']['retweet_count'])\n",
    "\n",
    "        # Completed, add to master list\n",
    "        tweets.append(tweet_row)\n",
    "\n",
    "\n",
    "# Redo the order in case tweets are unordered\n",
    "tweets = sorted(tweets, key=itemgetter(1))\n",
    "print(f'Generating CSV for {len(tweets):,} tweets...')\n",
    "# Write into the target CSV\n",
    "with open('..//..//Data//Private Data//Tweet Collection v2.csv', 'w', newline='',encoding='utf-8') as file:\n",
    "    # Add proper header\n",
    "    csv_header = csv.DictWriter(file, delimiter=',', fieldnames=['Tweet ID','Tweet Date','Tweet Link','Tweet Content','Mentioned Handle(s)/Username(s)','Via','Favorite Count','Retweet Count'])\n",
    "    csv_header.writeheader()\n",
    "\n",
    "    # Write file\n",
    "    csv_writer = csv.writer(file)\n",
    "    for i in tweets:\n",
    "        csv_writer.writerow(i)\n",
    "\n",
    "print('Done!')"
   ]
  }
 ],
 "metadata": {
  "kernelspec": {
   "display_name": "Python 3",
   "language": "python",
   "name": "python3"
  },
  "language_info": {
   "codemirror_mode": {
    "name": "ipython",
    "version": 3
   },
   "file_extension": ".py",
   "mimetype": "text/x-python",
   "name": "python",
   "nbconvert_exporter": "python",
   "pygments_lexer": "ipython3",
   "version": "3.11.4"
  }
 },
 "nbformat": 4,
 "nbformat_minor": 2
}
