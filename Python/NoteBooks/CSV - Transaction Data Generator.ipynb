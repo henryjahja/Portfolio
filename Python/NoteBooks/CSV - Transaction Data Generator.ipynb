{
 "cells": [
  {
   "cell_type": "markdown",
   "metadata": {},
   "source": [
    "### Libraries"
   ]
  },
  {
   "cell_type": "code",
   "execution_count": 1,
   "metadata": {},
   "outputs": [],
   "source": [
    "from datetime import datetime as dt\n",
    "import random as prandom\n",
    "from random import random as rd\n",
    "from random import randint as rdint\n",
    "import csv"
   ]
  },
  {
   "cell_type": "markdown",
   "metadata": {},
   "source": [
    "#### Random User ID\n",
    "Create random user ID. Default at 1 to 1000 using ```random.randint``` function."
   ]
  },
  {
   "cell_type": "code",
   "execution_count": 2,
   "metadata": {},
   "outputs": [],
   "source": [
    "def random_id(from_id=1,to_id=1000):\n",
    "    return str(rdint(from_id,to_id))"
   ]
  },
  {
   "cell_type": "markdown",
   "metadata": {},
   "source": [
    "#### Random IP v4 & v6 Address\n",
    "Create a random IPv4 from 1.1.1.1 to 255.255.255.255 using ```random.randint``` function.  \n",
    "Create arandom IPv6 using ```random.randint``` then convert them to hexadecimal."
   ]
  },
  {
   "cell_type": "code",
   "execution_count": 3,
   "metadata": {},
   "outputs": [],
   "source": [
    "def random_ipv4():\n",
    "    return '.'.join(('%d' % rdint(1,255) for i in range(4)))\n",
    "def random_ipv6():\n",
    "    return ':'.join(('%x' % rdint(0, 16**4) for i in range(8)))\n"
   ]
  },
  {
   "cell_type": "markdown",
   "metadata": {},
   "source": [
    "#### Random Date\n",
    "Create a random date within two dates."
   ]
  },
  {
   "cell_type": "code",
   "execution_count": 4,
   "metadata": {},
   "outputs": [],
   "source": [
    "def random_date():\n",
    "    dt1 = dt(2010,1,1,0,0,0).timestamp()\n",
    "    dt2 = dt(2024,1,31,23,59,59).timestamp()\n",
    "    return dt.strftime(dt.fromtimestamp(dt1 + ((dt2-dt1)*rd())),'%Y-%m-%d %H:%M:%S')"
   ]
  },
  {
   "cell_type": "markdown",
   "metadata": {},
   "source": [
    "#### Random Credit Card Number\n",
    "Create a string of random credit card."
   ]
  },
  {
   "cell_type": "code",
   "execution_count": 5,
   "metadata": {},
   "outputs": [],
   "source": [
    "def random_credit_card():\n",
    "    if rd() <0.01:\n",
    "        return 'null'\n",
    "    else:\n",
    "        return ''.join(('%d' % rdint(0, 9) for i in range(16)))"
   ]
  },
  {
   "cell_type": "markdown",
   "metadata": {},
   "source": [
    "#### Random Transaction \n",
    "Create random transaction."
   ]
  },
  {
   "cell_type": "code",
   "execution_count": 6,
   "metadata": {},
   "outputs": [],
   "source": [
    "def random_transaction_total(mi=0.01,ma=1999.99):\n",
    "    return round(prandom.uniform(mi,ma), 2)"
   ]
  },
  {
   "cell_type": "markdown",
   "metadata": {},
   "source": [
    "### Create CSV function\n",
    "Create CSV entries adding header then add rows as per given input."
   ]
  },
  {
   "cell_type": "code",
   "execution_count": 7,
   "metadata": {},
   "outputs": [],
   "source": [
    "def create_csv(rows=10, columns=['row_number'], column_names=None, filepath='../../Data/Python Generated.csv'):\n",
    "    if column_names == None:\n",
    "        column_names = columns\n",
    "    columns_dictionary = {\n",
    "        'row_number':0,\n",
    "        'user_id': random_id,\n",
    "        'sales_id': random_id,\n",
    "        'ip': random_ipv4,\n",
    "        'ipv4': random_ipv4,\n",
    "        'ipv6': random_ipv6,\n",
    "        'date': random_date,\n",
    "        'credit_card': random_credit_card,\n",
    "        'transaction_total': random_transaction_total\n",
    "    }\n",
    "    # Open/create file\n",
    "    with open(filepath, 'w', newline='') as file:\n",
    "        csv_header = csv.DictWriter(file, delimiter=',', fieldnames=column_names)\n",
    "        csv_header.writeheader()\n",
    "        csv_writer = csv.writer(file)\n",
    "        for i in range(rows):\n",
    "            columns_dictionary['row_number'] += 1\n",
    "            complete_row = []\n",
    "            for cols in columns:\n",
    "                if cols == 'row_number':\n",
    "                    complete_row.append(columns_dictionary['row_number'])\n",
    "                elif type(cols) is tuple:\n",
    "                    func,vals = cols\n",
    "                    complete_row.append(columns_dictionary[func](*vals))\n",
    "                else:\n",
    "                    complete_row.append(columns_dictionary[cols]())\n",
    "            csv_writer.writerow(complete_row)\n",
    "        print(f'Created a CSV \\\"{filepath.split(\"/\")[-1]}\\\":\\n\\tLocation: {\"/\".join(filepath.split(\"/\")[:-1])}/\\n\\tColumns: {\", \".join(column_names)}\\n\\tCreated {columns_dictionary[\"row_number\"]} records!')"
   ]
  },
  {
   "cell_type": "markdown",
   "metadata": {},
   "source": [
    "### Run function"
   ]
  },
  {
   "cell_type": "code",
   "execution_count": 8,
   "metadata": {},
   "outputs": [
    {
     "name": "stdout",
     "output_type": "stream",
     "text": [
      "Created a CSV \"Python Generated - Transaction Data.csv\":\n",
      "\tLocation: ../../Data/\n",
      "\tColumns: #, user_id, user_ip_address_v4, user_ip_address_v6, sales_id, sales_ip_address_v4, sales_ip_address_v6, transaction_date, credit_card_number, transaction_grand_total\n",
      "\tCreated 1000 records!\n"
     ]
    }
   ],
   "source": [
    "total_records = 1000\n",
    "login_columns = ['row_number',\n",
    "                 'user_id',\n",
    "                 'ip',\n",
    "                 'ipv6',\n",
    "                 ('sales_id',(25,100)),\n",
    "                 'ip',\n",
    "                 'ipv6',\n",
    "                 # (branch_id,5,32)),\n",
    "                 'date',\n",
    "                 'credit_card',\n",
    "                 ('transaction_total',(25,9999.99))]\n",
    "login_columns_name = ['#',\n",
    "                      'user_id',\n",
    "                      'user_ip_address_v4',\n",
    "                      'user_ip_address_v6',\n",
    "                      'sales_id',\n",
    "                      'sales_ip_address_v4',\n",
    "                      'sales_ip_address_v6',\n",
    "                      'transaction_date',\n",
    "                      'credit_card_number',\n",
    "                      'transaction_grand_total']\n",
    "filepath = '../../Data/Python Generated - Transaction Data.csv'\n",
    "create_csv(total_records,login_columns, login_columns_name,filepath)"
   ]
  },
  {
   "cell_type": "code",
   "execution_count": null,
   "metadata": {},
   "outputs": [],
   "source": []
  },
  {
   "cell_type": "markdown",
   "metadata": {},
   "source": []
  },
  {
   "cell_type": "code",
   "execution_count": null,
   "metadata": {},
   "outputs": [],
   "source": []
  },
  {
   "cell_type": "markdown",
   "metadata": {},
   "source": []
  }
 ],
 "metadata": {
  "kernelspec": {
   "display_name": "Python 3",
   "language": "python",
   "name": "python3"
  },
  "language_info": {
   "codemirror_mode": {
    "name": "ipython",
    "version": 3
   },
   "file_extension": ".py",
   "mimetype": "text/x-python",
   "name": "python",
   "nbconvert_exporter": "python",
   "pygments_lexer": "ipython3",
   "version": "3.11.4"
  }
 },
 "nbformat": 4,
 "nbformat_minor": 2
}
