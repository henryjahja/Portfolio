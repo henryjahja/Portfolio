{
 "cells": [
  {
   "cell_type": "markdown",
   "metadata": {},
   "source": [
    "### Libraries"
   ]
  },
  {
   "cell_type": "code",
   "execution_count": 1,
   "metadata": {},
   "outputs": [],
   "source": [
    "from datetime import datetime as dt\n",
    "from random import random as rd\n",
    "from random import randint as rdint\n",
    "import csv\n",
    "import platform"
   ]
  },
  {
   "cell_type": "markdown",
   "metadata": {},
   "source": [
    "#### Random Date  \n",
    "Create a random date within two dates."
   ]
  },
  {
   "cell_type": "code",
   "execution_count": 2,
   "metadata": {},
   "outputs": [],
   "source": [
    "def random_date():\n",
    "    dt1 = dt(2010,1,1,0,0,0).timestamp()\n",
    "    dt2 = dt(2024,1,31,23,59,59).timestamp()\n",
    "    return dt.strftime(dt.fromtimestamp(dt1 + ((dt2-dt1)*rd())),'%Y-%m-%d %H:%M:%S')"
   ]
  },
  {
   "cell_type": "markdown",
   "metadata": {},
   "source": [
    "#### Random IP Address  \n",
    "Create a random IP from 1.1.1.1 to 255.255.255.255."
   ]
  },
  {
   "cell_type": "code",
   "execution_count": 3,
   "metadata": {},
   "outputs": [],
   "source": [
    "def random_ip():\n",
    "    return str(f'{round(rdint(1,255))}.{round(rdint(1,255))}.{round(rdint(1,255))}.{round(rdint(1,255))}')"
   ]
  },
  {
   "cell_type": "markdown",
   "metadata": {},
   "source": [
    "### Create CSV function"
   ]
  },
  {
   "cell_type": "code",
   "execution_count": 4,
   "metadata": {},
   "outputs": [],
   "source": [
    "def create_csv(rows=1,columns=['row_number'],filepath = None):\n",
    "    if filepath == None:\n",
    "        filepath = '../../Data/Python Generated.csv'\n",
    "        # if platform.system() == 'Windows':\n",
    "        #     filepath = '../../Data/Python Generated.csv'\n",
    "        # else:\n",
    "        #     filepath = '../../Data/Python Generated.csv'\n",
    "    columns_dictionary = {\n",
    "        'row_number':0,\n",
    "        'date': random_date,\n",
    "        'ip': random_ip\n",
    "    }\n",
    "    # Open/create file\n",
    "    with open(filepath, 'w', newline='') as file:\n",
    "        csv_header = csv.DictWriter(file, delimiter=',', fieldnames=columns)\n",
    "        csv_header.writeheader()\n",
    "        csv_writer = csv.writer(file)\n",
    "        for i in range(rows):\n",
    "            columns_dictionary['row_number'] += 1\n",
    "            # To-Do: If there's name or username, generate them collectively.\n",
    "            complete_row = []\n",
    "            for cols in columns:\n",
    "                complete_row.append(columns_dictionary[cols]())\n",
    "            csv_writer.writerow(complete_row)\n",
    "        print(f'Created a CSV:\\nColumns: {\", \".join(columns)}\\nCreated {columns_dictionary[\"row_number\"]} records')"
   ]
  },
  {
   "cell_type": "markdown",
   "metadata": {},
   "source": [
    "### Run function"
   ]
  },
  {
   "cell_type": "code",
   "execution_count": 7,
   "metadata": {},
   "outputs": [
    {
     "name": "stdout",
     "output_type": "stream",
     "text": [
      "Created a CSV:\n",
      "Columns: ip, date\n",
      "Created 100000 records\n"
     ]
    }
   ],
   "source": [
    "total_records = 100000\n",
    "login_columns = ['ip','date']\n",
    "filepath = '../../Data/Python Generated.csv'\n",
    "create_csv(rows=total_records,columns = login_columns)"
   ]
  },
  {
   "cell_type": "code",
   "execution_count": 6,
   "metadata": {},
   "outputs": [
    {
     "data": {
      "text/plain": [
       "'/home/deck/Code/GitHub-Syncd/Portfolio/Python/NoteBooks'"
      ]
     },
     "execution_count": 6,
     "metadata": {},
     "output_type": "execute_result"
    }
   ],
   "source": [
    "pwd()"
   ]
  }
 ],
 "metadata": {
  "kernelspec": {
   "display_name": "Python 3",
   "language": "python",
   "name": "python3"
  },
  "language_info": {
   "codemirror_mode": {
    "name": "ipython",
    "version": 3
   },
   "file_extension": ".py",
   "mimetype": "text/x-python",
   "name": "python",
   "nbconvert_exporter": "python",
   "pygments_lexer": "ipython3",
   "version": "3.11.7"
  }
 },
 "nbformat": 4,
 "nbformat_minor": 2
}
