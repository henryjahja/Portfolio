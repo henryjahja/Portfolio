{
 "cells": [
  {
   "cell_type": "markdown",
   "metadata": {},
   "source": [
    "### Libraries"
   ]
  },
  {
   "cell_type": "code",
   "execution_count": 17,
   "metadata": {},
   "outputs": [],
   "source": [
    "from datetime import datetime as dt\n",
    "from random import random as rd\n",
    "from random import randint as rdint\n",
    "import csv\n",
    "import platform"
   ]
  },
  {
   "cell_type": "markdown",
   "metadata": {},
   "source": [
    "#### Random Date  \n",
    "Create a random date within two dates."
   ]
  },
  {
   "cell_type": "code",
   "execution_count": 18,
   "metadata": {},
   "outputs": [],
   "source": [
    "def random_date():\n",
    "    dt1 = dt(2010,1,1,0,0,0).timestamp()\n",
    "    dt2 = dt(2024,1,31,23,59,59).timestamp()\n",
    "    return dt.strftime(dt.fromtimestamp(dt1 + ((dt2-dt1)*rd())),'%Y-%m-%d %H:%M:%S')"
   ]
  },
  {
   "cell_type": "markdown",
   "metadata": {},
   "source": [
    "#### Random IP Address  \n",
    "Create a random IP from 1.1.1.1 to 255.255.255.255."
   ]
  },
  {
   "cell_type": "code",
   "execution_count": 19,
   "metadata": {},
   "outputs": [],
   "source": [
    "def random_ip():\n",
    "    return str(f'{round(rdint(1,255))}.{round(rdint(1,255))}.{round(rdint(1,255))}.{round(rdint(1,255))}')"
   ]
  },
  {
   "cell_type": "markdown",
   "metadata": {},
   "source": [
    "### Create CSV function"
   ]
  },
  {
   "cell_type": "code",
   "execution_count": 52,
   "metadata": {},
   "outputs": [
    {
     "name": "stdout",
     "output_type": "stream",
     "text": [
      "Created a CSV:\n",
      "Columns: ip, date\n",
      "Created 1 records\n"
     ]
    }
   ],
   "source": [
    "def create_csv(rows=1,columns=['row_number'],filepath = None):\n",
    "    if filepath == None:\n",
    "        if platform.system() == 'Windows':\n",
    "            filepath = '../../Data/Python Generated.csv'\n",
    "        else:\n",
    "            filepath = 'Data/Python Generated.csv'\n",
    "    columns_dictionary = {\n",
    "        'row_number':1,\n",
    "        'date': random_date,\n",
    "        'ip': random_ip\n",
    "    }\n",
    "    # Open/create file\n",
    "    with open(filepath, 'w', newline='') as file:\n",
    "        # csv_header = csv.writer(file,escapechar=' ', quoting=csv.QUOTE_NONE)\n",
    "        # csv_header.writerow([','.join(columns)])\n",
    "        csv_header = csv.DictWriter(file, delimiter=',', fieldnames=columns)\n",
    "        csv_writer.writeheader()\n",
    "        csv_writer = csv.writer(file)\n",
    "        for i in range(rows):\n",
    "            # //If there's name or username, generate them collectively.\n",
    "            complete_row = []\n",
    "            for cols in columns:\n",
    "                complete_row.append(columns_dictionary[cols]())\n",
    "            csv_writer.writerow(complete_row)\n",
    "        print(f'Created a CSV:\\nColumns: {\", \".join(columns)}\\nCreated {columns_dictionary[\"row_number\"]} records')\n",
    "total_records = 100\n",
    "login_columns = ['ip','date']\n",
    "filepath = '../../Data/Python Generated.csv'\n",
    "create_csv(rows=total_records,columns = login_columns)"
   ]
  },
  {
   "cell_type": "markdown",
   "metadata": {},
   "source": [
    "### Run function"
   ]
  },
  {
   "cell_type": "code",
   "execution_count": 49,
   "metadata": {},
   "outputs": [
    {
     "ename": "TypeError",
     "evalue": "\"escapechar\" must be a 1-character string",
     "output_type": "error",
     "traceback": [
      "\u001b[1;31m---------------------------------------------------------------------------\u001b[0m",
      "\u001b[1;31mTypeError\u001b[0m                                 Traceback (most recent call last)",
      "Cell \u001b[1;32mIn[49], line 4\u001b[0m\n\u001b[0;32m      2\u001b[0m login_columns \u001b[38;5;241m=\u001b[39m [\u001b[38;5;124m'\u001b[39m\u001b[38;5;124mip\u001b[39m\u001b[38;5;124m'\u001b[39m,\u001b[38;5;124m'\u001b[39m\u001b[38;5;124mdate\u001b[39m\u001b[38;5;124m'\u001b[39m]\n\u001b[0;32m      3\u001b[0m filepath \u001b[38;5;241m=\u001b[39m \u001b[38;5;124m'\u001b[39m\u001b[38;5;124m../../Data/Python Generated.csv\u001b[39m\u001b[38;5;124m'\u001b[39m\n\u001b[1;32m----> 4\u001b[0m \u001b[43mcreate_csv\u001b[49m\u001b[43m(\u001b[49m\u001b[43mrows\u001b[49m\u001b[38;5;241;43m=\u001b[39;49m\u001b[43mtotal_records\u001b[49m\u001b[43m,\u001b[49m\u001b[43mcolumns\u001b[49m\u001b[43m \u001b[49m\u001b[38;5;241;43m=\u001b[39;49m\u001b[43m \u001b[49m\u001b[43mlogin_columns\u001b[49m\u001b[43m)\u001b[49m\n",
      "Cell \u001b[1;32mIn[48], line 14\u001b[0m, in \u001b[0;36mcreate_csv\u001b[1;34m(rows, columns, filepath)\u001b[0m\n\u001b[0;32m     12\u001b[0m \u001b[38;5;66;03m# Open/create file\u001b[39;00m\n\u001b[0;32m     13\u001b[0m \u001b[38;5;28;01mwith\u001b[39;00m \u001b[38;5;28mopen\u001b[39m(filepath, \u001b[38;5;124m'\u001b[39m\u001b[38;5;124mw\u001b[39m\u001b[38;5;124m'\u001b[39m, newline\u001b[38;5;241m=\u001b[39m\u001b[38;5;124m'\u001b[39m\u001b[38;5;124m'\u001b[39m) \u001b[38;5;28;01mas\u001b[39;00m file:\n\u001b[1;32m---> 14\u001b[0m     csv_writer \u001b[38;5;241m=\u001b[39m \u001b[43mcsv\u001b[49m\u001b[38;5;241;43m.\u001b[39;49m\u001b[43mwriter\u001b[49m\u001b[43m(\u001b[49m\u001b[43mfile\u001b[49m\u001b[43m,\u001b[49m\u001b[43mescapechar\u001b[49m\u001b[38;5;241;43m=\u001b[39;49m\u001b[38;5;124;43m'\u001b[39;49m\u001b[38;5;124;43m'\u001b[39;49m\u001b[43m,\u001b[49m\u001b[43m \u001b[49m\u001b[43mquoting\u001b[49m\u001b[38;5;241;43m=\u001b[39;49m\u001b[43mcsv\u001b[49m\u001b[38;5;241;43m.\u001b[39;49m\u001b[43mQUOTE_NONE\u001b[49m\u001b[43m)\u001b[49m\n\u001b[0;32m     15\u001b[0m     \u001b[38;5;66;03m# csv_writer = csv.writer(file)\u001b[39;00m\n\u001b[0;32m     16\u001b[0m     csv_writer\u001b[38;5;241m.\u001b[39mwriterow([\u001b[38;5;124m'\u001b[39m\u001b[38;5;124m, \u001b[39m\u001b[38;5;124m'\u001b[39m\u001b[38;5;241m.\u001b[39mjoin(columns)])\n",
      "\u001b[1;31mTypeError\u001b[0m: \"escapechar\" must be a 1-character string"
     ]
    }
   ],
   "source": [
    "total_records = 100\n",
    "login_columns = ['ip','date']\n",
    "filepath = '../../Data/Python Generated.csv'\n",
    "create_csv(rows=total_records,columns = login_columns)"
   ]
  }
 ],
 "metadata": {
  "kernelspec": {
   "display_name": "Python 3",
   "language": "python",
   "name": "python3"
  },
  "language_info": {
   "codemirror_mode": {
    "name": "ipython",
    "version": 3
   },
   "file_extension": ".py",
   "mimetype": "text/x-python",
   "name": "python",
   "nbconvert_exporter": "python",
   "pygments_lexer": "ipython3",
   "version": "3.11.7"
  }
 },
 "nbformat": 4,
 "nbformat_minor": 2
}
