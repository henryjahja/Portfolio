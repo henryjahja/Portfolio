{
 "cells": [
  {
   "cell_type": "code",
   "execution_count": 1,
   "metadata": {},
   "outputs": [],
   "source": [
    "import json                         # For JSON-structured file reader\n",
    "from operator import itemgetter     # For sorting\n",
    "import csv                          # For loading to target CSV\n",
    "from datetime import datetime"
   ]
  },
  {
   "cell_type": "code",
   "execution_count": 2,
   "metadata": {},
   "outputs": [
    {
     "name": "stdout",
     "output_type": "stream",
     "text": [
      "Loaded 727,556 first names..\n",
      "Loaded 983,826 last names..\n",
      "Generating 715,788,509,256 names..\n",
      "Generating CSV for 100,000,001 names...\n",
      "Done!\n"
     ]
    }
   ],
   "source": [
    "# Path to the tweet archives folder (data)\n",
    "first_name_path = '..//..//Data//Private Data//Old FB//first_names.json'\n",
    "last_name_path = '..//..//Data//Private Data//Old FB//last_names.json'\n",
    "\n",
    "# Container for the end result\n",
    "names = []\n",
    "\n",
    "# Load file\n",
    "with open (first_name_path,encoding='utf-8') as f:\n",
    "    loaded_file = f.read()\n",
    "    # Load the string into JSON format\n",
    "    first_names = json.loads(loaded_file)\n",
    "print(f'Loaded {len(first_names):,} first names..')\n",
    "\n",
    "with open (last_name_path,encoding='utf-8') as f:\n",
    "    loaded_file = f.read()\n",
    "    # Load the string into JSON format\n",
    "    last_names = json.loads(loaded_file)\n",
    "print(f'Loaded {len(last_names):,} last names..')\n",
    "\n",
    "print(f'Generating {len(first_names)*len(last_names):,} names..')\n",
    "for f in first_names:\n",
    "    for l in last_names:\n",
    "        names.append(f'{f} {l}')\n",
    "        if len(names) > 100:\n",
    "            break\n",
    "    if len(names) > 100:\n",
    "        break\n",
    " \n",
    "print(f'Generating CSV for {len(names):,} names...')\n",
    "\n",
    "# Write into the target CSV\n",
    "with open('All Name Combinations.csv', 'w', newline='',encoding='utf-8') as file:\n",
    "    # Add proper header\n",
    "    csv_header = csv.DictWriter(file, delimiter=',', fieldnames=['Full Name'])\n",
    "    csv_header.writeheader()\n",
    "\n",
    "    # Write file\n",
    "    csv_writer = csv.writer(file)\n",
    "    for i in names:\n",
    "        csv_writer.writerow(i)\n",
    "\n",
    "print('Done!')"
   ]
  }
 ],
 "metadata": {
  "kernelspec": {
   "display_name": "Python 3",
   "language": "python",
   "name": "python3"
  },
  "language_info": {
   "codemirror_mode": {
    "name": "ipython",
    "version": 3
   },
   "file_extension": ".py",
   "mimetype": "text/x-python",
   "name": "python",
   "nbconvert_exporter": "python",
   "pygments_lexer": "ipython3",
   "version": "3.11.4"
  }
 },
 "nbformat": 4,
 "nbformat_minor": 2
}
