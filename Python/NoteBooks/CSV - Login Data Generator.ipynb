{
 "cells": [
  {
   "cell_type": "markdown",
   "metadata": {},
   "source": [
    "### Libraries"
   ]
  },
  {
   "cell_type": "code",
   "execution_count": 31,
   "metadata": {},
   "outputs": [],
   "source": [
    "from datetime import datetime as dt\n",
    "from random import random as rd\n",
    "from random import randint as rdint\n",
    "import csv\n",
    "import platform"
   ]
  },
  {
   "cell_type": "markdown",
   "metadata": {},
   "source": [
    "#### Random User ID\n",
    "Create random user ID. Default at 1 to 100"
   ]
  },
  {
   "cell_type": "code",
   "execution_count": 32,
   "metadata": {},
   "outputs": [],
   "source": [
    "def random_id(from_id=1,to_id=100):\n",
    "    return str(rdint(from_id,to_id))"
   ]
  },
  {
   "cell_type": "markdown",
   "metadata": {},
   "source": [
    "#### Random IP Address\n",
    "Create a random IP from 1.1.1.1 to 255.255.255.255."
   ]
  },
  {
   "cell_type": "code",
   "execution_count": 33,
   "metadata": {},
   "outputs": [],
   "source": [
    "def random_ip():\n",
    "    return str(f'{round(rdint(1,255))}.{round(rdint(1,255))}.{round(rdint(1,255))}.{round(rdint(1,255))}')"
   ]
  },
  {
   "cell_type": "markdown",
   "metadata": {},
   "source": [
    "#### Random Date\n",
    "Create a random date within two dates."
   ]
  },
  {
   "cell_type": "code",
   "execution_count": 34,
   "metadata": {},
   "outputs": [],
   "source": [
    "def random_date():\n",
    "    dt1 = dt(2010,1,1,0,0,0).timestamp()\n",
    "    dt2 = dt(2024,1,31,23,59,59).timestamp()\n",
    "    return dt.strftime(dt.fromtimestamp(dt1 + ((dt2-dt1)*rd())),'%Y-%m-%d %H:%M:%S')"
   ]
  },
  {
   "cell_type": "markdown",
   "metadata": {},
   "source": [
    "#### Random Login Status\n",
    "Create random login status (SUCCESS / FAILED / UNKNOWN)"
   ]
  },
  {
   "cell_type": "code",
   "execution_count": 35,
   "metadata": {},
   "outputs": [],
   "source": [
    "def random_login_status(success=85, failed=None, unknown=0.01):\n",
    "    if failed == None:\n",
    "        failed = 100-unknown-success\n",
    "    if success+failed+unknown != 100:\n",
    "        ValueError('Login error rate not add up to 100%')\n",
    "    login_dice = rd()*100\n",
    "    if login_dice <= unknown:\n",
    "        return 'UNKNOWN'\n",
    "    elif login_dice <= failed:\n",
    "        return 'FAILED'\n",
    "    else:\n",
    "        return 'SUCCESS'"
   ]
  },
  {
   "cell_type": "markdown",
   "metadata": {},
   "source": [
    "### Create CSV function"
   ]
  },
  {
   "cell_type": "code",
   "execution_count": 42,
   "metadata": {},
   "outputs": [],
   "source": [
    "def create_csv(rows=1,columns=['row_number'],column_names = None, filepath = '../../Data/Python Generated.csv'):\n",
    "    if column_names == None:\n",
    "        column_names = columns\n",
    "    columns_dictionary = {\n",
    "        'row_number':0,\n",
    "        'id': random_id,\n",
    "        'ip': random_ip,\n",
    "        'date': random_date,\n",
    "        'login_status': random_login_status,\n",
    "    }\n",
    "    # Open/create file\n",
    "    with open(filepath, 'w', newline='') as file:\n",
    "        csv_header = csv.DictWriter(file, delimiter=',', fieldnames=column_names)\n",
    "        csv_header.writeheader()\n",
    "        csv_writer = csv.writer(file)\n",
    "        for i in range(rows):\n",
    "            columns_dictionary['row_number'] += 1\n",
    "            # To-Do: If there's name or username, generate them collectively.\n",
    "            complete_row = []\n",
    "            for cols in columns:\n",
    "                if cols == 'row_number':\n",
    "                    complete_row.append(columns_dictionary['row_number'])\n",
    "                else:\n",
    "                    complete_row.append(columns_dictionary[cols]())\n",
    "            csv_writer.writerow(complete_row)\n",
    "        print(f'Created a CSV:\\nColumns: {\", \".join(columns)}\\nCreated {columns_dictionary[\"row_number\"]} records')"
   ]
  },
  {
   "cell_type": "markdown",
   "metadata": {},
   "source": [
    "### Run function"
   ]
  },
  {
   "cell_type": "code",
   "execution_count": 44,
   "metadata": {},
   "outputs": [
    {
     "name": "stdout",
     "output_type": "stream",
     "text": [
      "Created a CSV:\n",
      "Columns: row_number, ip, id, date, login_status\n",
      "Created 10000 records\n"
     ]
    }
   ],
   "source": [
    "total_records = 10000\n",
    "login_columns = ['row_number','ip','id','date','login_status']\n",
    "login_columns_name = ['#','ip_address','user_id','login_date','login_status']\n",
    "filepath = '../../Data/Python Generated.csv'\n",
    "create_csv(rows=total_records,columns = login_columns, column_names=login_columns_name)"
   ]
  },
  {
   "cell_type": "code",
   "execution_count": 38,
   "metadata": {},
   "outputs": [
    {
     "data": {
      "text/plain": [
       "'d:\\\\Gits\\\\Portfolio\\\\Python\\\\NoteBooks'"
      ]
     },
     "execution_count": 38,
     "metadata": {},
     "output_type": "execute_result"
    }
   ],
   "source": [
    "pwd()"
   ]
  }
 ],
 "metadata": {
  "kernelspec": {
   "display_name": "Python 3",
   "language": "python",
   "name": "python3"
  },
  "language_info": {
   "codemirror_mode": {
    "name": "ipython",
    "version": 3
   },
   "file_extension": ".py",
   "mimetype": "text/x-python",
   "name": "python",
   "nbconvert_exporter": "python",
   "pygments_lexer": "ipython3",
   "version": "3.11.4"
  }
 },
 "nbformat": 4,
 "nbformat_minor": 2
}
