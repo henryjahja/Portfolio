{
 "cells": [
  {
   "cell_type": "markdown",
   "metadata": {},
   "source": [
    "### Libraries"
   ]
  },
  {
   "cell_type": "code",
   "execution_count": 1,
   "metadata": {},
   "outputs": [],
   "source": [
    "from datetime import datetime as dt\n",
    "import random as prandom\n",
    "from random import random as rd\n",
    "from random import randint as rdint\n",
    "import csv\n",
    "import string"
   ]
  },
  {
   "cell_type": "markdown",
   "metadata": {},
   "source": [
    "#### Random ID\n",
    "Create random ID. Default at 1 to 1000 using ```random.randint``` function."
   ]
  },
  {
   "cell_type": "code",
   "execution_count": 2,
   "metadata": {},
   "outputs": [],
   "source": [
    "def random_id(from_id=1,to_id=1000):\n",
    "    return str(rdint(from_id,to_id))"
   ]
  },
  {
   "cell_type": "markdown",
   "metadata": {},
   "source": [
    "#### Random IP v4 & v6 Address\n",
    "Create a random IPv4 from 1.1.1.1 to 255.255.255.255 using ```random.randint``` function.  \n",
    "Create arandom IPv6 using ```random.randint``` then convert them to hexadecimal."
   ]
  },
  {
   "cell_type": "code",
   "execution_count": 3,
   "metadata": {},
   "outputs": [],
   "source": [
    "def random_ipv4():\n",
    "    return '.'.join(('%d' % rdint(1,255) for i in range(4)))\n",
    "def random_ipv6():\n",
    "    return ':'.join(('%x' % rdint(0, 16**4) for i in range(8)))\n"
   ]
  },
  {
   "cell_type": "markdown",
   "metadata": {},
   "source": [
    "#### Random Login Status\n",
    "Create random login status (SUCCESS / FAILED / UNKNOWN). Success rate by default is 85%."
   ]
  },
  {
   "cell_type": "code",
   "execution_count": 4,
   "metadata": {},
   "outputs": [],
   "source": [
    "def random_login_status(success=85, failed=None, unknown=0.01):\n",
    "    if failed == None:\n",
    "        failed = 100-unknown-success\n",
    "    if success+failed+unknown != 100:\n",
    "        ValueError('Login error rate not add up to 100%')\n",
    "    login_dice = rd()*100\n",
    "    if login_dice <= unknown:\n",
    "        return 'UNKNOWN'\n",
    "    elif login_dice <= failed:\n",
    "        return 'FAILED'\n",
    "    else:\n",
    "        return 'SUCCESS'"
   ]
  },
  {
   "cell_type": "markdown",
   "metadata": {},
   "source": [
    "#### Random Date\n",
    "Create a random date within two dates."
   ]
  },
  {
   "cell_type": "code",
   "execution_count": 5,
   "metadata": {},
   "outputs": [],
   "source": [
    "def random_date():\n",
    "    dt1 = dt(2010,1,1,0,0,0).timestamp()\n",
    "    dt2 = dt(2024,1,31,23,59,59).timestamp()\n",
    "    return dt.strftime(dt.fromtimestamp(dt1 + ((dt2-dt1)*rd())),'%Y-%m-%d %H:%M:%S')"
   ]
  },
  {
   "cell_type": "markdown",
   "metadata": {},
   "source": [
    "#### Random Credit Card Number\n",
    "Create a string of random credit card."
   ]
  },
  {
   "cell_type": "code",
   "execution_count": 6,
   "metadata": {},
   "outputs": [],
   "source": [
    "def random_credit_card():\n",
    "    if rd() <0.01:\n",
    "        return 'null'\n",
    "    else:\n",
    "        return ''.join(('%d' % rdint(0, 9) for i in range(16)))"
   ]
  },
  {
   "cell_type": "markdown",
   "metadata": {},
   "source": [
    "#### Random Floating Number \n",
    "Create random floating number."
   ]
  },
  {
   "cell_type": "code",
   "execution_count": 7,
   "metadata": {},
   "outputs": [],
   "source": [
    "def random_float(mi=0.01,ma=1999.99):\n",
    "    return round(prandom.uniform(mi,ma), 2)"
   ]
  },
  {
   "cell_type": "markdown",
   "metadata": {},
   "source": [
    "#### Random String \n",
    "Create random set of string, default to alphanumeric."
   ]
  },
  {
   "cell_type": "code",
   "execution_count": 8,
   "metadata": {},
   "outputs": [],
   "source": [
    "def random_string(l=5,an=True):\n",
    "    return ''.join(prandom.SystemRandom().choice(string.ascii_letters + string.digits) for _ in range(l))"
   ]
  },
  {
   "cell_type": "markdown",
   "metadata": {},
   "source": [
    "#### Random Country Code \n",
    "Create random country code based on ISO-3166 Country Code list."
   ]
  },
  {
   "cell_type": "code",
   "execution_count": 9,
   "metadata": {},
   "outputs": [],
   "source": [
    "def random_country_code():\n",
    "    with open('../../Data/ISO-3166 Countries.csv', 'r',) as file:\n",
    "        reads = csv.reader(file,delimiter=',')\n",
    "        data = [ct[6] for ct in reads]\n",
    "    return data[rdint(0,len(data)-1)]"
   ]
  },
  {
   "cell_type": "markdown",
   "metadata": {},
   "source": [
    "#### Random Boolean\n",
    "Create a random boolean."
   ]
  },
  {
   "cell_type": "code",
   "execution_count": null,
   "metadata": {},
   "outputs": [],
   "source": [
    "def random_boolean(true_rate=None):\n",
    "    if true_rate == None:\n",
    "        true_rate = 50\n",
    "    return (True if rdint(1,true_rate) >= 1 else False)\n",
    "print(random_boolean())"
   ]
  },
  {
   "cell_type": "markdown",
   "metadata": {},
   "source": [
    "## Test"
   ]
  },
  {
   "cell_type": "code",
   "execution_count": 10,
   "metadata": {},
   "outputs": [
    {
     "name": "stdout",
     "output_type": "stream",
     "text": [
      "random_id(): 196\n",
      "random_ipv4(): 153.121.216.216\n",
      "random_ipv6(): fb8a:6505:da1b:95d2:2cc0:57e5:e067:e4e4\n",
      "random_login_status(): SUCCESS\n",
      "random_date(): 2013-06-18 09:25:12\n",
      "random_credit_card(): 1184789996933533\n",
      "random_float(): 1089.73\n",
      "random_string(): Hwv37\n",
      "random_country_code(): UG\n"
     ]
    }
   ],
   "source": [
    "print(f'random_id(): {random_id()}')\n",
    "print(f'random_ipv4(): {random_ipv4()}')\n",
    "print(f'random_ipv6(): {random_ipv6()}')\n",
    "print(f'random_login_status(): {random_login_status()}')\n",
    "print(f'random_date(): {random_date()}')\n",
    "print(f'random_credit_card(): {random_credit_card()}')\n",
    "print(f'random_float(): {random_float()}')\n",
    "print(f'random_string(): {random_string()}')\n",
    "print(f'random_country_code(): {random_country_code()}')"
   ]
  }
 ],
 "metadata": {
  "kernelspec": {
   "display_name": "Python 3",
   "language": "python",
   "name": "python3"
  },
  "language_info": {
   "codemirror_mode": {
    "name": "ipython",
    "version": 3
   },
   "file_extension": ".py",
   "mimetype": "text/x-python",
   "name": "python",
   "nbconvert_exporter": "python",
   "pygments_lexer": "ipython3",
   "version": "3.11.4"
  }
 },
 "nbformat": 4,
 "nbformat_minor": 2
}
