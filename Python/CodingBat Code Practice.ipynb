{
 "cells": [
  {
   "cell_type": "markdown",
   "id": "37c4222e",
   "metadata": {},
   "source": [
    "# Warmup-1"
   ]
  },
  {
   "cell_type": "markdown",
   "id": "7a9fcf85",
   "metadata": {},
   "source": [
    "### Warmup-1 > sleep_in\n",
    "The parameter weekday is True if it is a weekday, and the parameter vacation is True if we are on vacation. We sleep in if it is not a weekday or we're on vacation. Return True if we sleep in.\n",
    "\n",
    "\n",
    "sleep_in(False, False) → True  \n",
    "sleep_in(True, False) → False  \n",
    "sleep_in(False, True) → True"
   ]
  },
  {
   "cell_type": "code",
   "execution_count": null,
   "id": "6b8a23a9",
   "metadata": {},
   "outputs": [],
   "source": [
    "def sleep_in(weekday, vacation):\n",
    "  return (not(weekday) or vacation)"
   ]
  },
  {
   "cell_type": "markdown",
   "id": "ea65ae6d",
   "metadata": {},
   "source": [
    "### Warmup-1 > monkey_trouble\n",
    "We have two monkeys, a and b, and the parameters a_smile and b_smile indicate if each is smiling. We are in trouble if they are both smiling or if neither of them is smiling. Return True if we are in trouble.\n",
    "\n",
    "\n",
    "monkey_trouble(True, True) → True  \n",
    "monkey_trouble(False, False) → True  \n",
    "monkey_trouble(True, False) → False"
   ]
  },
  {
   "cell_type": "code",
   "execution_count": null,
   "id": "9f75c4a0",
   "metadata": {},
   "outputs": [],
   "source": [
    "def monkey_trouble(a_smile, b_smile):\n",
    "  return a_smile == b_smile"
   ]
  },
  {
   "cell_type": "markdown",
   "id": "37ef66e0",
   "metadata": {},
   "source": [
    "### Warmup-1 > sum_double\n",
    "Given two int values, return their sum. Unless the two values are the same, then return double their sum.\n",
    "\n",
    "\n",
    "sum_double(1, 2) → 3  \n",
    "sum_double(3, 2) → 5  \n",
    "sum_double(2, 2) → 8"
   ]
  },
  {
   "cell_type": "code",
   "execution_count": null,
   "id": "a8f2dfc3",
   "metadata": {},
   "outputs": [],
   "source": [
    "def sum_double(a, b):\n",
    "  return (a+b if a!=b else (a+b)*2)"
   ]
  },
  {
   "cell_type": "markdown",
   "id": "9f718677",
   "metadata": {},
   "source": [
    "### Warmup-1 > diff21\n",
    "Given an int n, return the absolute difference between n and 21, except return double the absolute difference if n is over 21.\n",
    "\n",
    "\n",
    "diff21(19) → 2  \n",
    "diff21(10) → 11  \n",
    "diff21(21) → 0"
   ]
  },
  {
   "cell_type": "code",
   "execution_count": null,
   "id": "efb7b64b",
   "metadata": {},
   "outputs": [],
   "source": [
    "def diff21(n):\n",
    "  return (21-n if n<=21 else abs(n-21)*2)"
   ]
  },
  {
   "cell_type": "markdown",
   "id": "c8b9850a",
   "metadata": {},
   "source": [
    "### Warmup-1 > parrot_trouble\n",
    "We have a loud talking parrot. The \"hour\" parameter is the current hour time in the range 0..23. We are in trouble if the parrot is talking and the hour is before 7 or after 20. Return True if we are in trouble.\n",
    "\n",
    "\n",
    "parrot_trouble(True, 6) → True  \n",
    "parrot_trouble(True, 7) → False  \n",
    "parrot_trouble(False, 6) → False"
   ]
  },
  {
   "cell_type": "code",
   "execution_count": null,
   "id": "fab5849a",
   "metadata": {},
   "outputs": [],
   "source": [
    "def parrot_trouble(talking, hour):\n",
    "  return (True if talking and (hour <7 or hour >20) else False)"
   ]
  },
  {
   "cell_type": "markdown",
   "id": "72a19ffb",
   "metadata": {},
   "source": [
    "### Warmup-1 > makes10\n",
    "Given 2 ints, a and b, return True if one if them is 10 or if their sum is 10.\n",
    "\n",
    "\n",
    "makes10(9, 10) → True  \n",
    "makes10(9, 9) → False  \n",
    "makes10(1, 9) → True"
   ]
  },
  {
   "cell_type": "code",
   "execution_count": null,
   "id": "824d4a06",
   "metadata": {},
   "outputs": [],
   "source": [
    "def makes10(a, b):\n",
    "  return True if a ==10 or b == 10 or a+b==10 else False"
   ]
  },
  {
   "cell_type": "markdown",
   "id": "a5ab2a22",
   "metadata": {},
   "source": [
    "### Warmup-1 > near_hundred\n",
    "Given an int n, return True if it is within 10 of 100 or 200. Note: abs(num) computes the absolute value of a number.\n",
    "\n",
    "\n",
    "near_hundred(93) → True  \n",
    "near_hundred(90) → True  \n",
    "near_hundred(89) → False"
   ]
  },
  {
   "cell_type": "code",
   "execution_count": null,
   "id": "553be0e5",
   "metadata": {},
   "outputs": [],
   "source": [
    "def near_hundred(n):\n",
    "  return True if abs(n-100) <=10 or abs(n-200) <=10 else False"
   ]
  },
  {
   "cell_type": "markdown",
   "id": "c3a2de5c",
   "metadata": {},
   "source": [
    "### Warmup-1 > pos_neg\n",
    "Given 2 int values, return True if one is negative and one is positive. Except if the parameter \"negative\" is True, then return True only if both are negative.\n",
    "\n",
    "\n",
    "pos_neg(1, -1, False) → True  \n",
    "pos_neg(-1, 1, False) → True  \n",
    "pos_neg(-4, -5, True) → True"
   ]
  },
  {
   "cell_type": "code",
   "execution_count": null,
   "id": "0bdb3167",
   "metadata": {},
   "outputs": [],
   "source": [
    "def pos_neg(a, b, negative):\n",
    "  return True if (((a<0 and b>0) or (a>0 and b<0)) and not(negative)) or (a<0 and b<0 and negative) else False"
   ]
  },
  {
   "cell_type": "markdown",
   "id": "5afc2b2e",
   "metadata": {},
   "source": [
    "### Warmup-1 > not_string\n",
    "Given a string, return a new string where \"not \" has been added to the front. However, if the string already begins with \"not\", return the string unchanged.\n",
    "\n",
    "\n",
    "not_string('candy') → 'not candy'  \n",
    "not_string('x') → 'not x'  \n",
    "not_string('not bad') → 'not bad'"
   ]
  },
  {
   "cell_type": "code",
   "execution_count": null,
   "id": "41ff9b92",
   "metadata": {},
   "outputs": [],
   "source": [
    "def not_string(str):\n",
    "  return str if str[0:3].upper() == 'NOT' else 'not ' + str"
   ]
  },
  {
   "cell_type": "markdown",
   "id": "61db1586",
   "metadata": {},
   "source": [
    "### Warmup-1 > missing_char\n",
    "Given a non-empty string and an int n, return a new string where the char at index n has been removed. The value of n will be a valid index of a char in the original string (i.e. n will be in the range 0..len(str)-1 inclusive).\n",
    "\n",
    "\n",
    "missing_char('kitten', 1) → 'ktten'  \n",
    "missing_char('kitten', 0) → 'itten'  \n",
    "missing_char('kitten', 4) → 'kittn'"
   ]
  },
  {
   "cell_type": "code",
   "execution_count": null,
   "id": "280a490d",
   "metadata": {},
   "outputs": [],
   "source": [
    "def missing_char(str, n):\n",
    "  return str[0:n]+str[n+1:]"
   ]
  },
  {
   "cell_type": "markdown",
   "id": "79531d60",
   "metadata": {},
   "source": [
    "### Warmup-1 > front_back\n",
    "Given a string, return a new string where the first and last chars have been exchanged.\n",
    "\n",
    "\n",
    "front_back('code') → 'eodc'  \n",
    "front_back('a') → 'a'  \n",
    "front_back('ab') → 'ba'"
   ]
  },
  {
   "cell_type": "code",
   "execution_count": null,
   "id": "6f329d76",
   "metadata": {},
   "outputs": [],
   "source": [
    "def front_back(str):\n",
    "  return str if len(str) == 0 or len(str) == 1 else str[len(str)-1]+str[1:len(str)-1]+str[0]"
   ]
  },
  {
   "cell_type": "markdown",
   "id": "f64a3060",
   "metadata": {},
   "source": [
    "### Warmup-1 > front3\n",
    "Given a string, we'll say that the front is the first 3 chars of the string. If the string length is less than 3, the front is whatever is there. Return a new string which is 3 copies of the front.\n",
    "\n",
    "\n",
    "front3('Java') → 'JavJavJav'  \n",
    "front3('Chocolate') → 'ChoChoCho'  \n",
    "front3('abc') → 'abcabcabc'"
   ]
  },
  {
   "cell_type": "code",
   "execution_count": null,
   "id": "8cfabb74",
   "metadata": {},
   "outputs": [],
   "source": [
    "def front3(str):\n",
    "  return str*3 if len(str)<=3 else str[:3]*3"
   ]
  },
  {
   "cell_type": "markdown",
   "id": "00cdccbb",
   "metadata": {},
   "source": [
    "# Warmup-2"
   ]
  },
  {
   "cell_type": "markdown",
   "id": "a338015e",
   "metadata": {},
   "source": [
    "### Warmup-2 > string_times\n",
    "Given a string and a non-negative int n, return a larger string that is n copies of the original string.\n",
    "\n",
    "\n",
    "string_times('Hi', 2) → 'HiHi'  \n",
    "string_times('Hi', 3) → 'HiHiHi'  \n",
    "string_times('Hi', 1) → 'Hi'"
   ]
  },
  {
   "cell_type": "code",
   "execution_count": null,
   "id": "bc15bc2f",
   "metadata": {},
   "outputs": [],
   "source": [
    "def string_times(str, n):\n",
    "  return str*n"
   ]
  },
  {
   "cell_type": "markdown",
   "id": "a595979b",
   "metadata": {},
   "source": [
    "### Warmup-2 > front_times\n",
    "Given a string and a non-negative int n, we'll say that the front of the string is the first 3 chars, or whatever is there if the string is less than length 3. Return n copies of the front;\n",
    "\n",
    "\n",
    "front_times('Chocolate', 2) → 'ChoCho'  \n",
    "front_times('Chocolate', 3) → 'ChoChoCho'  \n",
    "front_times('Abc', 3) → 'AbcAbcAbc'"
   ]
  },
  {
   "cell_type": "code",
   "execution_count": null,
   "id": "124dcac7",
   "metadata": {},
   "outputs": [],
   "source": [
    "def front_times(str, n):\n",
    "  return str[:3]*n"
   ]
  },
  {
   "cell_type": "markdown",
   "id": "3f673498",
   "metadata": {},
   "source": [
    "### Warmup-2 > string_bits\n",
    "Given a string, return a new string made of every other char starting with the first, so \"Hello\" yields \"Hlo\".\n",
    "\n",
    "\n",
    "string_bits('Hello') → 'Hlo'  \n",
    "string_bits('Hi') → 'H'  \n",
    "string_bits('Heeololeo') → 'Hello'"
   ]
  },
  {
   "cell_type": "code",
   "execution_count": null,
   "id": "5eb68dc2",
   "metadata": {},
   "outputs": [],
   "source": [
    "def string_bits(str):\n",
    "  return str[::2]"
   ]
  },
  {
   "cell_type": "markdown",
   "id": "a041a78c",
   "metadata": {},
   "source": [
    "### Warmup-2 > string_splosion\n",
    "Given a non-empty string like \"Code\" return a string like \"CCoCodCode\".\n",
    "\n",
    "\n",
    "string_splosion('Code') → 'CCoCodCode'  \n",
    "string_splosion('abc') → 'aababc'  \n",
    "string_splosion('ab') → 'aab'"
   ]
  },
  {
   "cell_type": "code",
   "execution_count": null,
   "id": "b40f61e9",
   "metadata": {},
   "outputs": [],
   "source": [
    "def string_splosion(str):\n",
    "  newstr = ''\n",
    "  for x in range(len(str)):\n",
    "    newstr+=str[:x+1]\n",
    "  return newstr"
   ]
  },
  {
   "cell_type": "code",
   "execution_count": null,
   "id": "16c7a98b",
   "metadata": {},
   "outputs": [],
   "source": [
    "def string_splosion(str):\n",
    "  return ''.join([str[:x+1] for x in range(len(str))])"
   ]
  },
  {
   "cell_type": "markdown",
   "id": "470d7929",
   "metadata": {},
   "source": [
    "### Warmup-2 > last2\n",
    "Given a string, return the count of the number of times that a substring length 2 appears in the string and also as the last 2 chars of the string, so \"hixxxhi\" yields 1 (we won't count the end substring).\n",
    "\n",
    "\n",
    "last2('hixxhi') → 1  \n",
    "last2('xaxxaxaxx') → 1  \n",
    "last2('axxxaaxx') → 2"
   ]
  },
  {
   "cell_type": "code",
   "execution_count": null,
   "id": "60cdc678",
   "metadata": {},
   "outputs": [],
   "source": [
    "def last2(str):\n",
    "#if counting absolute occurence:\n",
    "#     return 0 if len(str) == 0 else str[:-2].count(str[-2:])\n",
    "  t = 0\n",
    "  for x in range(len(str)-2):\n",
    "    if str[x:x+2] == str[-2:]:\n",
    "      t+=1\n",
    "  return t"
   ]
  },
  {
   "cell_type": "markdown",
   "id": "20902752",
   "metadata": {},
   "source": [
    "### Warmup-2 > array_count9\n",
    "Given an array of ints, return the number of 9's in the array.\n",
    "\n",
    "\n",
    "array_count9([1, 2, 9]) → 1  \n",
    "array_count9([1, 9, 9]) → 2  \n",
    "array_count9([1, 9, 9, 3, 9]) → 3"
   ]
  },
  {
   "cell_type": "code",
   "execution_count": null,
   "id": "e98994b6",
   "metadata": {},
   "outputs": [],
   "source": [
    "def array_count9(nums):\n",
    "  return nums.count(9)"
   ]
  },
  {
   "cell_type": "markdown",
   "id": "c46501c4",
   "metadata": {},
   "source": [
    "### Warmup-2 > array_front9\n",
    "Given an array of ints, return True if one of the first 4 elements in the array is a 9. The array length may be less than 4.\n",
    "\n",
    "\n",
    "array_front9([1, 2, 9, 3, 4]) → True  \n",
    "array_front9([1, 2, 3, 4, 9]) → False  \n",
    "array_front9([1, 2, 3, 4, 5]) → False"
   ]
  },
  {
   "cell_type": "code",
   "execution_count": null,
   "id": "f9c693f4",
   "metadata": {},
   "outputs": [],
   "source": [
    "def array_front9(nums):\n",
    "  return True if nums[:4].count(9) > 0 else False"
   ]
  },
  {
   "cell_type": "markdown",
   "id": "deefeed2",
   "metadata": {},
   "source": [
    "### Warmup-2 > array123\n",
    "Given an array of ints, return True if the sequence of numbers 1, 2, 3 appears in the array somewhere.\n",
    "\n",
    "\n",
    "array123([1, 1, 2, 3, 1]) → True  \n",
    "array123([1, 1, 2, 4, 1]) → False  \n",
    "array123([1, 1, 2, 1, 2, 3]) → True"
   ]
  },
  {
   "cell_type": "code",
   "execution_count": null,
   "id": "62b13fd5",
   "metadata": {},
   "outputs": [],
   "source": [
    "def array123(nums):\n",
    "  for x in range(len(nums)):\n",
    "    if (nums[x:x+3] == [1,2,3]):\n",
    "      return True\n",
    "  return False"
   ]
  },
  {
   "cell_type": "markdown",
   "id": "c5888e25",
   "metadata": {},
   "source": [
    "### Warmup-2 > string_match\n",
    "Given 2 strings, a and b, return the number of the positions where they contain the same length 2 substring. So \"xxcaazz\" and \"xxbaaz\" yields 3, since the \"xx\", \"aa\", and \"az\" substrings appear in the same place in both strings.\n",
    "\n",
    "\n",
    "string_match('xxcaazz', 'xxbaaz') → 3  \n",
    "string_match('abc', 'abc') → 2  \n",
    "string_match('abc', 'axc') → 0"
   ]
  },
  {
   "cell_type": "code",
   "execution_count": null,
   "id": "47ec1b62",
   "metadata": {},
   "outputs": [],
   "source": [
    "def string_match(a, b):\n",
    "  t = 0\n",
    "  for x in range(max(len(a),len(b))-1):\n",
    "    if a[x:x+2] == b[x:x+2]:\n",
    "      t+=1\n",
    "  return t"
   ]
  },
  {
   "cell_type": "markdown",
   "id": "2939d8fc",
   "metadata": {},
   "source": [
    "# String-1"
   ]
  },
  {
   "cell_type": "markdown",
   "id": "1180bb9d",
   "metadata": {},
   "source": [
    "### String-1 > hello_name\n",
    "Given a string name, e.g. \"Bob\", return a greeting of the form \"Hello Bob!\".\n",
    "\n",
    "\n",
    "hello_name('Bob') → 'Hello Bob!'  \n",
    "hello_name('Alice') → 'Hello Alice!'  \n",
    "hello_name('X') → 'Hello X!'"
   ]
  },
  {
   "cell_type": "code",
   "execution_count": null,
   "id": "1341a66b",
   "metadata": {},
   "outputs": [],
   "source": [
    "def hello_name(name):\n",
    "  return 'Hello ' + name + '!'"
   ]
  },
  {
   "cell_type": "markdown",
   "id": "2147d77e",
   "metadata": {},
   "source": [
    "### String-1 > make_abba\n",
    "Given two strings, a and b, return the result of putting them together in the order abba, e.g. \"Hi\" and \"Bye\" returns \"HiByeByeHi\".\n",
    "\n",
    "\n",
    "make_abba('Hi', 'Bye') → 'HiByeByeHi'  \n",
    "make_abba('Yo', 'Alice') → 'YoAliceAliceYo'  \n",
    "make_abba('What', 'Up') → 'WhatUpUpWhat'"
   ]
  },
  {
   "cell_type": "code",
   "execution_count": null,
   "id": "d4bfb706",
   "metadata": {},
   "outputs": [],
   "source": [
    "def make_abba(a, b):\n",
    "  return a+b+b+a"
   ]
  },
  {
   "cell_type": "markdown",
   "id": "dc41b534",
   "metadata": {},
   "source": [
    "### String-1 > make_tags\n",
    "The web is built with HTML strings like \"<i>Yay</i>\" which draws Yay as italic text. In this example, the \"i\" tag makes <i> and </i> which surround the word \"Yay\". Given tag and word strings, create the HTML string with tags around the word, e.g. \"<i>Yay</i>\".\n",
    "\n",
    "\n",
    "make_tags('i', 'Yay') → '\\<i>Yay\\</i>'  \n",
    "make_tags('i', 'Hello') → '\\<i>Hello\\</i>'  \n",
    "make_tags('cite', 'Yay') → '\\<cite>Yay\\</cite>'"
   ]
  },
  {
   "cell_type": "code",
   "execution_count": null,
   "id": "68761e54",
   "metadata": {},
   "outputs": [],
   "source": [
    "def make_tags(tag, word):\n",
    "  return '<'+tag+'>'+word+'</'+tag+'>'"
   ]
  },
  {
   "cell_type": "markdown",
   "id": "bafa90d2",
   "metadata": {},
   "source": [
    "### String-1 > make_out_word\n",
    "Given an \"out\" string length 4, such as \"<<>>\", and a word, return a new string where the word is in the middle of the out string, e.g. \"<\\<word>>\".\n",
    "\n",
    "\n",
    "make_out_word('<<>>', 'Yay') → '<\\<Yay>>'  \n",
    "make_out_word('<<>>', 'WooHoo') → '\\<\\<WooHoo>>'  \n",
    "make_out_word('[[]]', 'word') → '[[word]]'"
   ]
  },
  {
   "cell_type": "code",
   "execution_count": null,
   "id": "9d072eb1",
   "metadata": {},
   "outputs": [],
   "source": [
    "def make_out_word(out, word):\n",
    "  return out[:2]+word+out[-2:]"
   ]
  },
  {
   "cell_type": "markdown",
   "id": "3d83a147",
   "metadata": {},
   "source": [
    "### String-1 > extra_end\n",
    "Given a string, return a new string made of 3 copies of the last 2 chars of the original string. The string length will be at least 2.\n",
    "\n",
    "\n",
    "extra_end('Hello') → 'lololo'  \n",
    "extra_end('ab') → 'ababab'  \n",
    "extra_end('Hi') → 'HiHiHi'"
   ]
  },
  {
   "cell_type": "code",
   "execution_count": null,
   "id": "dfc80513",
   "metadata": {},
   "outputs": [],
   "source": [
    "def extra_end(str):\n",
    "  return str[-2:]*3"
   ]
  },
  {
   "cell_type": "markdown",
   "id": "70a74cba",
   "metadata": {},
   "source": [
    "### String-1 > first_two\n",
    "Given a string, return the string made of its first two chars, so the String \"Hello\" yields \"He\". If the string is shorter than length 2, return whatever there is, so \"X\" yields \"X\", and the empty string \"\" yields the empty string \"\".\n",
    "\n",
    "\n",
    "first_two('Hello') → 'He'  \n",
    "first_two('abcdefg') → 'ab'  \n",
    "first_two('ab') → 'ab'"
   ]
  },
  {
   "cell_type": "code",
   "execution_count": null,
   "id": "4eb1be87",
   "metadata": {},
   "outputs": [],
   "source": [
    "def first_two(str):\n",
    "  return str[:2]"
   ]
  },
  {
   "cell_type": "markdown",
   "id": "37ef903e",
   "metadata": {},
   "source": [
    "### String-1 > first_half\n",
    "Given a string of even length, return the first half. So the string \"WooHoo\" yields \"Woo\".\n",
    "\n",
    "\n",
    "first_half('WooHoo') → 'Woo'  \n",
    "first_half('HelloThere') → 'Hello'  \n",
    "first_half('abcdef') → 'abc'"
   ]
  },
  {
   "cell_type": "code",
   "execution_count": null,
   "id": "55e9cb80",
   "metadata": {},
   "outputs": [],
   "source": [
    "def first_half(str):\n",
    "  return str[:len(str)/2]"
   ]
  },
  {
   "cell_type": "markdown",
   "id": "042d5ac8",
   "metadata": {},
   "source": [
    "### String-1 > without_end\n",
    "Given a string, return a version without the first and last char, so \"Hello\" yields \"ell\". The string length will be at least 2.\n",
    "\n",
    "\n",
    "without_end('Hello') → 'ell'  \n",
    "without_end('java') → 'av'  \n",
    "without_end('coding') → 'odin'"
   ]
  },
  {
   "cell_type": "code",
   "execution_count": null,
   "id": "fa4e6c67",
   "metadata": {},
   "outputs": [],
   "source": [
    "def without_end(str):\n",
    "  return str[1:-1]"
   ]
  },
  {
   "cell_type": "markdown",
   "id": "cb8fcd2b",
   "metadata": {},
   "source": [
    "### String-1 > combo_string\n",
    "Given 2 strings, a and b, return a string of the form short+long+short, with the shorter string on the outside and the longer string on the inside. The strings will not be the same length, but they may be empty (length 0).\n",
    "\n",
    "\n",
    "combo_string('Hello', 'hi') → 'hiHellohi'  \n",
    "combo_string('hi', 'Hello') → 'hiHellohi'  \n",
    "combo_string('aaa', 'b') → 'baaab'"
   ]
  },
  {
   "cell_type": "code",
   "execution_count": null,
   "id": "6cd755ec",
   "metadata": {},
   "outputs": [],
   "source": [
    "def combo_string(a, b):\n",
    "  return a+b+a if len(b)>len(a) else b+a+b"
   ]
  },
  {
   "cell_type": "markdown",
   "id": "bdafed6c",
   "metadata": {},
   "source": [
    "### String-1 > non_start\n",
    "Given 2 strings, return their concatenation, except omit the first char of each. The strings will be at least length 1.\n",
    "\n",
    "\n",
    "non_start('Hello', 'There') → 'ellohere'  \n",
    "non_start('java', 'code') → 'avaode'  \n",
    "non_start('shotl', 'java') → 'hotlava'"
   ]
  },
  {
   "cell_type": "code",
   "execution_count": null,
   "id": "f504b9af",
   "metadata": {},
   "outputs": [],
   "source": [
    "def non_start(a, b):\n",
    "  return a[1:]+b[1:]"
   ]
  },
  {
   "cell_type": "markdown",
   "id": "0f6d660d",
   "metadata": {},
   "source": [
    "### String-1 > left2\n",
    "Given a string, return a \"rotated left 2\" version where the first 2 chars are moved to the end. The string length will be at least 2.\n",
    "\n",
    "\n",
    "left2('Hello') → 'lloHe'  \n",
    "left2('java') → 'vaja'  \n",
    "left2('Hi') → 'Hi'"
   ]
  },
  {
   "cell_type": "code",
   "execution_count": null,
   "id": "c1850d4d",
   "metadata": {},
   "outputs": [],
   "source": [
    "def left2(str):\n",
    "  return str[2:]+str[:2]"
   ]
  },
  {
   "cell_type": "markdown",
   "id": "ee522803",
   "metadata": {},
   "source": [
    "# List-1"
   ]
  },
  {
   "cell_type": "markdown",
   "id": "45183e55",
   "metadata": {},
   "source": [
    "### List-1 > first_last6\n",
    "Given an array of ints, return True if 6 appears as either the first or last element in the array. The array will be length 1 or more.\n",
    "\n",
    "\n",
    "first_last6([1, 2, 6]) → True  \n",
    "first_last6([6, 1, 2, 3]) → True  \n",
    "first_last6([13, 6, 1, 2, 3]) → False"
   ]
  },
  {
   "cell_type": "code",
   "execution_count": null,
   "id": "1d540596",
   "metadata": {},
   "outputs": [],
   "source": [
    "def first_last6(nums):\n",
    "  return True if nums[0] == 6 or nums[-1] == 6 else False"
   ]
  },
  {
   "cell_type": "markdown",
   "id": "d98b72f8",
   "metadata": {},
   "source": [
    "### List-1 > same_first_last\n",
    "Given an array of ints, return True if the array is length 1 or more, and the first element and the last element are equal.\n",
    "\n",
    "\n",
    "same_first_last([1, 2, 3]) → False  \n",
    "same_first_last([1, 2, 3, 1]) → True  \n",
    "same_first_last([1, 2, 1]) → True"
   ]
  },
  {
   "cell_type": "code",
   "execution_count": null,
   "id": "42b1b736",
   "metadata": {},
   "outputs": [],
   "source": [
    "def same_first_last(nums):\n",
    "  return True if len(nums) > 0 and nums[0] == nums[-1] else False"
   ]
  },
  {
   "cell_type": "markdown",
   "id": "047e3e4e",
   "metadata": {},
   "source": [
    "### List-1 > make_pi\n",
    "Return an int array length 3 containing the first 3 digits of pi, {3, 1, 4}.\n",
    "\n",
    "\n",
    "make_pi() → [3, 1, 4]"
   ]
  },
  {
   "cell_type": "code",
   "execution_count": null,
   "id": "8270ef7f",
   "metadata": {},
   "outputs": [],
   "source": [
    "def make_pi():\n",
    "  return [3,1,4]"
   ]
  },
  {
   "cell_type": "markdown",
   "id": "576668fd",
   "metadata": {},
   "source": [
    "### List-1 > common_end\n",
    "\n",
    "Given 2 arrays of ints, a and b, return True if they have the same first element or they have the same last element. Both arrays will be length 1 or more.\n",
    "\n",
    "\n",
    "common_end([1, 2, 3], [7, 3]) → True  \n",
    "common_end([1, 2, 3], [7, 3, 2]) → False  \n",
    "common_end([1, 2, 3], [1, 3]) → True"
   ]
  },
  {
   "cell_type": "code",
   "execution_count": null,
   "id": "20ec2057",
   "metadata": {},
   "outputs": [],
   "source": [
    "def common_end(a, b):\n",
    "  return a[0]==b[0] or a[-1]==b[-1]"
   ]
  },
  {
   "cell_type": "markdown",
   "id": "614035be",
   "metadata": {},
   "source": [
    "### List-1 > sum3\n",
    "Given an array of ints length 3, return the sum of all the elements.\n",
    "\n",
    "\n",
    "sum3([1, 2, 3]) → 6  \n",
    "sum3([5, 11, 2]) → 18  \n",
    "sum3([7, 0, 0]) → 7"
   ]
  },
  {
   "cell_type": "code",
   "execution_count": null,
   "id": "91515914",
   "metadata": {},
   "outputs": [],
   "source": [
    "def sum3(nums):\n",
    "  return sum(nums)"
   ]
  },
  {
   "cell_type": "markdown",
   "id": "ba8cfc9b",
   "metadata": {},
   "source": [
    "### List-1 > rotate_left3\n",
    "Given an array of ints length 3, return an array with the elements \"rotated left\" so {1, 2, 3} yields {2, 3, 1}.\n",
    "\n",
    "\n",
    "rotate_left3([1, 2, 3]) → [2, 3, 1]  \n",
    "rotate_left3([5, 11, 9]) → [11, 9, 5]  \n",
    "rotate_left3([7, 0, 0]) → [0, 0, 7]"
   ]
  },
  {
   "cell_type": "code",
   "execution_count": null,
   "id": "86372984",
   "metadata": {},
   "outputs": [],
   "source": [
    "def rotate_left3(nums):\n",
    "  return nums[1:]+nums[0:1]"
   ]
  },
  {
   "cell_type": "markdown",
   "id": "61f67ddc",
   "metadata": {},
   "source": [
    "### List-1 > reverse3\n",
    "Given an array of ints length 3, return a new array with the elements in reverse order, so {1, 2, 3} becomes {3, 2, 1}.\n",
    "\n",
    "\n",
    "reverse3([1, 2, 3]) → [3, 2, 1]  \n",
    "reverse3([5, 11, 9]) → [9, 11, 5]  \n",
    "reverse3([7, 0, 0]) → [0, 0, 7]"
   ]
  },
  {
   "cell_type": "code",
   "execution_count": null,
   "id": "fbb80c93",
   "metadata": {},
   "outputs": [],
   "source": [
    "def reverse3(nums):\n",
    "  return nums[::-1]"
   ]
  },
  {
   "cell_type": "markdown",
   "id": "f0426a05",
   "metadata": {},
   "source": [
    "### List-1 > max_end3\n",
    "Given an array of ints length 3, figure out which is larger, the first or last element in the array, and set all the other elements to be that value. Return the changed array.\n",
    "\n",
    "\n",
    "max_end3([1, 2, 3]) → [3, 3, 3]  \n",
    "max_end3([11, 5, 9]) → [11, 11, 11]  \n",
    "max_end3([2, 11, 3]) → [3, 3, 3]"
   ]
  },
  {
   "cell_type": "code",
   "execution_count": null,
   "id": "983f6a2c",
   "metadata": {},
   "outputs": [],
   "source": [
    "def max_end3(nums):\n",
    "  nl = []\n",
    "  for x in range(len(nums)):\n",
    "    nl.append(nums[0] if nums[0]>nums[-1] else nums[-1])\n",
    "  return nl"
   ]
  },
  {
   "cell_type": "markdown",
   "id": "b3821763",
   "metadata": {},
   "source": [
    "### List-1 > sum2\n",
    "Given an array of ints, return the sum of the first 2 elements in the array. If the array length is less than 2, just sum up the elements that exist, returning 0 if the array is length 0.\n",
    "\n",
    "\n",
    "sum2([1, 2, 3]) → 3  \n",
    "sum2([1, 1]) → 2  \n",
    "sum2([1, 1, 1, 1]) → 2"
   ]
  },
  {
   "cell_type": "code",
   "execution_count": null,
   "id": "8be29151",
   "metadata": {},
   "outputs": [],
   "source": [
    "def sum2(nums):\n",
    "  return sum(nums) if len(nums) <=2 else nums[0]+nums[1]"
   ]
  },
  {
   "cell_type": "markdown",
   "id": "4b897fcb",
   "metadata": {},
   "source": [
    "### List-1 > middle_way\n",
    "Given 2 int arrays, a and b, each length 3, return a new array length 2 containing their middle elements.\n",
    "\n",
    "\n",
    "middle_way([1, 2, 3], [4, 5, 6]) → [2, 5]  \n",
    "middle_way([7, 7, 7], [3, 8, 0]) → [7, 8]  \n",
    "middle_way([5, 2, 9], [1, 4, 5]) → [2, 4]"
   ]
  },
  {
   "cell_type": "code",
   "execution_count": null,
   "id": "33e07642",
   "metadata": {},
   "outputs": [],
   "source": [
    "def middle_way(a, b):\n",
    "  return [a[1],b[1]]"
   ]
  },
  {
   "cell_type": "markdown",
   "id": "44ddbf2d",
   "metadata": {},
   "source": [
    "### List-1 > make_ends\n",
    "Given an array of ints, return a new array length 2 containing the first and last elements from the original array. The original array will be length 1 or more.\n",
    "\n",
    "\n",
    "make_ends([1, 2, 3]) → [1, 3]  \n",
    "make_ends([1, 2, 3, 4]) → [1, 4]  \n",
    "make_ends([7, 4, 6, 2]) → [7, 2]"
   ]
  },
  {
   "cell_type": "code",
   "execution_count": null,
   "id": "afa34158",
   "metadata": {},
   "outputs": [],
   "source": [
    "def make_ends(nums):\n",
    "  return [nums[0],nums[-1]]"
   ]
  },
  {
   "cell_type": "markdown",
   "id": "7a0b32a1",
   "metadata": {},
   "source": []
  },
  {
   "cell_type": "markdown",
   "id": "71683f68",
   "metadata": {},
   "source": []
  },
  {
   "cell_type": "markdown",
   "id": "83044181",
   "metadata": {},
   "source": []
  },
  {
   "cell_type": "markdown",
   "id": "aa50e6d7",
   "metadata": {},
   "source": []
  },
  {
   "cell_type": "markdown",
   "id": "a70c58f0",
   "metadata": {},
   "source": []
  },
  {
   "cell_type": "markdown",
   "id": "45394000",
   "metadata": {},
   "source": []
  },
  {
   "cell_type": "code",
   "execution_count": null,
   "id": "c5e8a8a2",
   "metadata": {},
   "outputs": [],
   "source": []
  }
 ],
 "metadata": {
  "kernelspec": {
   "display_name": "Python 3 (ipykernel)",
   "language": "python",
   "name": "python3"
  },
  "language_info": {
   "codemirror_mode": {
    "name": "ipython",
    "version": 3
   },
   "file_extension": ".py",
   "mimetype": "text/x-python",
   "name": "python",
   "nbconvert_exporter": "python",
   "pygments_lexer": "ipython3",
   "version": "3.10.9"
  }
 },
 "nbformat": 4,
 "nbformat_minor": 5
}
