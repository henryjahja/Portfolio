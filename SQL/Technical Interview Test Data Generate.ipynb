{
 "cells": [
  {
   "cell_type": "markdown",
   "metadata": {},
   "source": [
    "### Table:\n",
    "|visitor_id|page_name|visit_datetime|conversion_flag|\n",
    "|:--------:|:--------:|:--------:|:--------:|\n",
    "|123|A|11/1/2019 9:00:00|0|\n",
    "|123|A|11/1/2019 9:20:00|1|\n",
    "|123|B|11/1/2019 9:30:00|1|\n",
    "|...|...|...|...|...|"
   ]
  },
  {
   "cell_type": "markdown",
   "metadata": {},
   "source": [
    "## Login Data Generation"
   ]
  },
  {
   "cell_type": "markdown",
   "metadata": {},
   "source": [
    "Load Python Libraries"
   ]
  },
  {
   "cell_type": "code",
   "execution_count": 1,
   "metadata": {},
   "outputs": [],
   "source": [
    "from datetime import datetime as dt\n",
    "import random as prandom\n",
    "from random import random as rd\n",
    "from random import randint as rdint\n",
    "import string\n",
    "import csv"
   ]
  },
  {
   "cell_type": "markdown",
   "metadata": {},
   "source": [
    "Randomizer Functions:  \n",
    "* random_id()\n",
    "* random_string()\n",
    "* random_date()\n",
    "* random_boolean()"
   ]
  },
  {
   "cell_type": "code",
   "execution_count": 2,
   "metadata": {},
   "outputs": [],
   "source": [
    "def random_id(from_id=1,to_id=100):\n",
    "    return str(rdint(from_id,to_id))\n",
    "\n",
    "def random_string(l=5,st='letters'):\n",
    "    match st:\n",
    "        case 'alphanumeric':\n",
    "            return ''.join(prandom.SystemRandom().choice(string.ascii_letters + string.digits) for _ in range(l))\n",
    "        case 'numbers':\n",
    "            return ''.join(prandom.SystemRandom().choice(string.digits) for _ in range(l))\n",
    "        case 'all':\n",
    "            return ''.join(prandom.SystemRandom().choice(string.ascii_letters + string.digits + string.punctuation) for _ in range(l))\n",
    "        case _:\n",
    "            return ''.join(prandom.SystemRandom().choice(string.ascii_letters) for _ in range(l))\n",
    "        \n",
    "def random_date(start=(2010,1,1),end=(2024,1,31)):\n",
    "    dt1 = dt(start[0],start[1],start[2],0,0,0).timestamp()\n",
    "    dt2 = dt(end[0],end[1],end[2],23,59,59).timestamp()\n",
    "    return dt.strftime(dt.fromtimestamp(dt1 + ((dt2-dt1)*rd())),'%Y-%m-%d %H:%M:%S')\n",
    "\n",
    "def random_boolean(true_rate=None):\n",
    "    if true_rate == None:\n",
    "        true_rate = 50\n",
    "    return (True if rdint(1,100) <= true_rate else False)"
   ]
  },
  {
   "cell_type": "markdown",
   "metadata": {},
   "source": [
    "Upload and Process in PostgreDB"
   ]
  },
  {
   "cell_type": "code",
   "execution_count": 3,
   "metadata": {},
   "outputs": [
    {
     "name": "stdout",
     "output_type": "stream",
     "text": [
      "Table visitor_table exists, dropping...\n",
      "Creating table visitor_table...\n",
      "Inserting 500,000 records, please wait...\n",
      "Inserted 10,000 rows...\n",
      "Inserted 20,000 rows...\n",
      "Inserted 30,000 rows...\n",
      "Inserted 40,000 rows...\n",
      "Inserted 50,000 rows...\n",
      "Inserted 60,000 rows...\n",
      "Inserted 70,000 rows...\n",
      "Inserted 80,000 rows...\n",
      "Inserted 90,000 rows...\n",
      "Inserted 100,000 rows...\n",
      "Inserted 110,000 rows...\n",
      "Inserted 120,000 rows...\n",
      "Inserted 130,000 rows...\n",
      "Inserted 140,000 rows...\n",
      "Inserted 150,000 rows...\n",
      "Inserted 160,000 rows...\n",
      "Inserted 170,000 rows...\n",
      "Inserted 180,000 rows...\n",
      "Inserted 190,000 rows...\n",
      "Inserted 200,000 rows...\n",
      "Inserted 210,000 rows...\n",
      "Inserted 220,000 rows...\n",
      "Inserted 230,000 rows...\n",
      "Inserted 240,000 rows...\n",
      "Inserted 250,000 rows...\n",
      "Inserted 260,000 rows...\n",
      "Inserted 270,000 rows...\n",
      "Inserted 280,000 rows...\n",
      "Inserted 290,000 rows...\n",
      "Inserted 300,000 rows...\n",
      "Inserted 310,000 rows...\n",
      "Inserted 320,000 rows...\n",
      "Inserted 330,000 rows...\n",
      "Inserted 340,000 rows...\n",
      "Inserted 350,000 rows...\n",
      "Inserted 360,000 rows...\n",
      "Inserted 370,000 rows...\n",
      "Inserted 380,000 rows...\n",
      "Inserted 390,000 rows...\n",
      "Inserted 400,000 rows...\n",
      "Inserted 410,000 rows...\n",
      "Inserted 420,000 rows...\n",
      "Inserted 430,000 rows...\n",
      "Inserted 440,000 rows...\n",
      "Inserted 450,000 rows...\n",
      "Inserted 460,000 rows...\n",
      "Inserted 470,000 rows...\n",
      "Inserted 480,000 rows...\n",
      "Inserted 490,000 rows...\n",
      "Committing...\n",
      "Committed!\n"
     ]
    }
   ],
   "source": [
    "import psycopg2\n",
    "con = psycopg2.connect(\n",
    "    database='postgres',\n",
    "    user='postgres',\n",
    "    password='postgrepassword',\n",
    "    host='localhost'\n",
    ")\n",
    "cur = con.cursor()\n",
    "table_name = 'visitor_table'\n",
    "\n",
    "# Drop table if exists\n",
    "cur.execute(f'select * from information_schema.tables where table_name=\\'{table_name}\\';')\n",
    "if bool(cur.rowcount):\n",
    "    print(f'Table {table_name} exists, dropping...')\n",
    "    cur.execute(f'DROP TABLE {table_name};')\n",
    "\n",
    "# Create Table\n",
    "print(f'Creating table {table_name}...')\n",
    "cur.execute(f'CREATE TABLE {table_name} (id serial PRIMARY KEY,  visitor_id varchar(5), page_name varchar(2), visit_datetime timestamp, conversion_flag varchar(1));')\n",
    "\n",
    "row_total = 500000\n",
    "\n",
    "# Insert Randomized data\n",
    "print(f'Inserting {row_total:,} records, please wait...')\n",
    "for i in range(row_total):\n",
    "    data_insert = f'INSERT INTO {table_name} (visitor_id, page_name, visit_datetime, conversion_flag) VALUES (\\'{str(random_id(111,99999))}\\',\\'{str(random_string(1,\"letters\").upper())}\\',\\'{random_date((2024,2,1),(2024,2,29))}\\',\\'{\"1\" if random_boolean(1) else \"0\"}\\');'\n",
    "    # try:\n",
    "    cur.execute(data_insert)\n",
    "    # except:\n",
    "    #     print(f'Error at: {vals}')\n",
    "    if(i%10000 == 0 and i != 0):\n",
    "        print(f'Inserted {i:,} rows...')\n",
    "\n",
    "# Check table entries\n",
    "# cur.execute(f'SELECT COUNT(*) FROM {table_name};')\n",
    "# print(f'Created {cur.fetchone()[0]:,} rows!')\n",
    "\n",
    "# Fix the data - Once they're converted, put the rest of the record of that visitor as converted\n",
    "data_update = f'UPDATE {table_name} AS base SET conversion_flag = \\'1\\' FROM (SELECT visitor_id, MIN(visit_datetime) AS \"latest_visit_datetime\" FROM {table_name} WHERE conversion_flag = \\'1\\' GROUP BY visitor_id) AS identifiers WHERE base.visitor_id = identifiers.visitor_id AND base.visit_datetime >= identifiers.latest_visit_datetime;'\n",
    "cur.execute(data_update)\n",
    "\n",
    "print('Committing...')\n",
    "con.commit()\n",
    "print('Committed!')\n",
    "cur.close()\n",
    "con.close()\n"
   ]
  }
 ],
 "metadata": {
  "kernelspec": {
   "display_name": "Python 3",
   "language": "python",
   "name": "python3"
  },
  "language_info": {
   "codemirror_mode": {
    "name": "ipython",
    "version": 3
   },
   "file_extension": ".py",
   "mimetype": "text/x-python",
   "name": "python",
   "nbconvert_exporter": "python",
   "pygments_lexer": "ipython3",
   "version": "3.11.4"
  }
 },
 "nbformat": 4,
 "nbformat_minor": 2
}
