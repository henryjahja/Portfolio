{
 "cells": [
  {
   "cell_type": "code",
   "execution_count": 1,
   "metadata": {},
   "outputs": [],
   "source": [
    "from datetime import datetime as dt\n",
    "from random import random as rd\n",
    "from random import randint as rdint\n",
    "import csv"
   ]
  },
  {
   "cell_type": "code",
   "execution_count": 2,
   "metadata": {},
   "outputs": [],
   "source": [
    "def random_id(from_id=1,to_id=100):\n",
    "    return str(rdint(from_id,to_id))"
   ]
  },
  {
   "cell_type": "code",
   "execution_count": 3,
   "metadata": {},
   "outputs": [],
   "source": [
    "def random_login_status(success=85, failed=None, unknown=0.001):\n",
    "    if failed == None:\n",
    "        failed = 100-unknown-success\n",
    "    if success+failed+unknown != 100:\n",
    "        ValueError('Login error rate not add up to 100%')\n",
    "    login_dice = rd()*100\n",
    "    if login_dice <= unknown:\n",
    "        return 'UNKNOWN'\n",
    "    elif login_dice <= failed:\n",
    "        return 'FAILED'\n",
    "    else:\n",
    "        return 'SUCCESS'"
   ]
  },
  {
   "cell_type": "code",
   "execution_count": 4,
   "metadata": {},
   "outputs": [],
   "source": [
    "def random_date():\n",
    "    dt1 = dt(2010,1,1,0,0,0).timestamp()\n",
    "    dt2 = dt(2024,1,31,23,59,59).timestamp()\n",
    "    return dt.strftime(dt.fromtimestamp(dt1 + ((dt2-dt1)*rd())),'%Y-%m-%d %H:%M:%S')"
   ]
  },
  {
   "cell_type": "code",
   "execution_count": 5,
   "metadata": {},
   "outputs": [],
   "source": [
    "def random_ipv4():\n",
    "    return '.'.join(('%d' % rdint(1,255) for i in range(4)))\n",
    "def random_ipv6():\n",
    "    return ':'.join(('%x' % rdint(0, 16**4) for i in range(8)))\n"
   ]
  },
  {
   "cell_type": "code",
   "execution_count": 6,
   "metadata": {},
   "outputs": [],
   "source": [
    "def random_boolean(true_rate=None):\n",
    "    if true_rate == None:\n",
    "        true_rate = 50\n",
    "    return (True if rdint(1,100) <= true_rate else False)"
   ]
  },
  {
   "cell_type": "code",
   "execution_count": 33,
   "metadata": {},
   "outputs": [
    {
     "name": "stdout",
     "output_type": "stream",
     "text": [
      "Table login_data exist, dropping...\n",
      "Creating table login_data...\n",
      "Inserting 2000000 records, please wait...\n"
     ]
    }
   ],
   "source": [
    "import psycopg2\n",
    "con = psycopg2.connect(\n",
    "    database='postgres',\n",
    "    user='postgres',\n",
    "    password='postgrepassword',\n",
    "    host='localhost'\n",
    ")\n",
    "cur = con.cursor()\n",
    "table_name = 'login_data'\n",
    "cur.execute(f'select * from information_schema.tables where table_name=\\'{table_name}\\';')\n",
    "\n",
    "if bool(cur.rowcount):\n",
    "    print(f'Table {table_name} exist, dropping...')\n",
    "    cur.execute(f'DROP TABLE {table_name};')\n",
    "\n",
    "print(f'Creating table {table_name}...')\n",
    "cur.execute(f'CREATE TABLE {table_name} (id serial PRIMARY KEY,  user_id varchar(5), login_time timestamp, ipv4 varchar(15), ipv6 varchar(50), status varchar(7));')\n",
    "\n",
    "row_total = 2000000\n",
    "\n",
    "print(f'Inserting {row_total} records, please wait...')\n",
    "for i in range(row_total):\n",
    "    vals = f'INSERT INTO {table_name} (user_id, login_time, ipv4, ipv6, status) VALUES (\\'{str(random_id(1,999))}\\',\\'{random_date()}\\',\\'{str(random_ipv4())}\\',\\'{str(random_ipv6())}\\',\\'{str(random_login_status())}\\');'\n",
    "    # try:\n",
    "    cur.execute(vals)\n",
    "    # except:\n",
    "    #     print(f'Error at: {vals}')\n",
    "    if(i%10000 == 0 and i != 0):\n",
    "        print(f'Inserted {i} rows...')\n",
    "\n",
    "cur.execute(f'SELECT COUNT(*) FROM {table_name};')\n",
    "print(f'Created {cur.fetchone()[0]} rows!')\n",
    "\n",
    "cur.execute(f'SELECT COUNT(*) FROM {table_name} WHERE status = \\'SUCCESS\\';')\n",
    "print(f'Total \\'Success\\' login: {cur.fetchone()[0]} rows!')\n",
    "\n",
    "print('Committing...')\n",
    "con.commit()\n",
    "print('Committed!')\n",
    "cur.close()\n",
    "con.close()\n"
   ]
  }
 ],
 "metadata": {
  "kernelspec": {
   "display_name": "Python 3",
   "language": "python",
   "name": "python3"
  },
  "language_info": {
   "codemirror_mode": {
    "name": "ipython",
    "version": 3
   },
   "file_extension": ".py",
   "mimetype": "text/x-python",
   "name": "python",
   "nbconvert_exporter": "python",
   "pygments_lexer": "ipython3",
   "version": "3.11.4"
  }
 },
 "nbformat": 4,
 "nbformat_minor": 2
}
