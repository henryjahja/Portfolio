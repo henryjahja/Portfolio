{
 "cells": [
  {
   "cell_type": "code",
   "execution_count": 1,
   "metadata": {},
   "outputs": [],
   "source": [
    "from random import randint as rdint\n",
    "def random_boolean(true_rate=None):\n",
    "    if true_rate == None:\n",
    "        true_rate = 50\n",
    "    return (True if rdint(1,100) <= true_rate else False)"
   ]
  },
  {
   "cell_type": "code",
   "execution_count": 2,
   "metadata": {},
   "outputs": [
    {
     "name": "stdout",
     "output_type": "stream",
     "text": [
      "Table writers exist, dropping...\n",
      "Creating table writers...\n",
      "Inserting 200000 records, please wait...\n",
      "Inserted 0 rows...\n",
      "Inserted 10000 rows...\n",
      "Inserted 20000 rows...\n",
      "Inserted 30000 rows...\n",
      "Inserted 40000 rows...\n",
      "Inserted 50000 rows...\n",
      "Inserted 60000 rows...\n",
      "Inserted 70000 rows...\n",
      "Inserted 80000 rows...\n",
      "Inserted 90000 rows...\n",
      "Inserted 100000 rows...\n",
      "Inserted 110000 rows...\n",
      "Inserted 120000 rows...\n",
      "Inserted 130000 rows...\n",
      "Inserted 140000 rows...\n",
      "Inserted 150000 rows...\n",
      "Inserted 160000 rows...\n",
      "Inserted 170000 rows...\n",
      "Inserted 180000 rows...\n",
      "Inserted 190000 rows...\n",
      "Created 200000 rows!\n",
      "Total True: 99304 rows!\n",
      "Committing...\n",
      "Committed!\n"
     ]
    }
   ],
   "source": [
    "import psycopg2\n",
    "con = psycopg2.connect(\n",
    "    database='postgres',\n",
    "    user='postgres',\n",
    "    password='postgrepassword',\n",
    "    host='localhost'\n",
    ")\n",
    "cur = con.cursor()\n",
    "table_name = 'writers'\n",
    "cur.execute(f'select * from information_schema.tables where table_name=\\'{table_name}\\';')\n",
    "\n",
    "if bool(cur.rowcount):\n",
    "    print(f'Table {table_name} exist, dropping...')\n",
    "    cur.execute(f'DROP TABLE {table_name};')\n",
    "\n",
    "print(f'Creating table {table_name}...')\n",
    "cur.execute(f'CREATE TABLE {table_name} (id serial PRIMARY KEY, alive boolean);')\n",
    "\n",
    "row_total = 200000\n",
    "\n",
    "print(f'Inserting {row_total} records, please wait...')\n",
    "for i in range(row_total):\n",
    "    cur.execute(f'INSERT INTO {table_name} (id, alive) VALUES ({i}, {random_boolean()});')\n",
    "    if(i%10000 == 0):\n",
    "        print(f'Inserted {i} rows...')\n",
    "\n",
    "cur.execute(f'SELECT COUNT(*) FROM {table_name};')\n",
    "print(f'Created {cur.fetchone()[0]} rows!')\n",
    "\n",
    "cur.execute(f'SELECT COUNT(*) FROM {table_name} WHERE alive;')\n",
    "print(f'Total True: {cur.fetchone()[0]} rows!')\n",
    "\n",
    "print('Committing...')\n",
    "con.commit()\n",
    "print('Committed!')\n",
    "cur.close()\n",
    "con.close()\n"
   ]
  }
 ],
 "metadata": {
  "kernelspec": {
   "display_name": "Python 3",
   "language": "python",
   "name": "python3"
  },
  "language_info": {
   "codemirror_mode": {
    "name": "ipython",
    "version": 3
   },
   "file_extension": ".py",
   "mimetype": "text/x-python",
   "name": "python",
   "nbconvert_exporter": "python",
   "pygments_lexer": "ipython3",
   "version": "3.11.4"
  }
 },
 "nbformat": 4,
 "nbformat_minor": 2
}
