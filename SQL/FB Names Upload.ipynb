{
 "cells": [
  {
   "cell_type": "code",
   "execution_count": 1,
   "metadata": {},
   "outputs": [],
   "source": [
    "from datetime import datetime as dt\n",
    "from random import random as rd\n",
    "from random import randint as rdint\n",
    "# import csv\n",
    "import psycopg2\n",
    "# import pandas as pd\n",
    "import io"
   ]
  },
  {
   "cell_type": "code",
   "execution_count": 2,
   "metadata": {},
   "outputs": [],
   "source": [
    "con = psycopg2.connect(\n",
    "    database='postgres',\n",
    "    user='postgres',\n",
    "    password='postgrepassword',\n",
    "    host='localhost'\n",
    ")"
   ]
  },
  {
   "cell_type": "code",
   "execution_count": 3,
   "metadata": {},
   "outputs": [
    {
     "name": "stdout",
     "output_type": "stream",
     "text": [
      "Table human_names exist, dropping...\n"
     ]
    }
   ],
   "source": [
    "cur = con.cursor()\n",
    "table_name = 'human_names'\n",
    "cur.execute(f'select * from information_schema.tables where table_name=\\'{table_name}\\';')\n",
    "\n",
    "if bool(cur.rowcount):\n",
    "    print(f'Table {table_name} exist, dropping...')\n",
    "    cur.execute(f'DROP TABLE {table_name};')"
   ]
  },
  {
   "cell_type": "code",
   "execution_count": 4,
   "metadata": {},
   "outputs": [
    {
     "name": "stdout",
     "output_type": "stream",
     "text": [
      "Total in `../Data/Private Data/FB Names Data`: 105 files.\n"
     ]
    }
   ],
   "source": [
    "import os\n",
    "# # os.rename('friends_s02e' + text_ + '._720p_bluray_sujaidr.' + filetypes,'F.r.i.e.n.d.s S02E' + text_ + '.' + filetypes)\n",
    "path = '..//Data//Private Data//FB Names Data'\n",
    "# print('Files in `' + path.replace('//','/') + '`:')\n",
    "csv_list = []\n",
    "for(root, dirs, file) in os.walk(path):\n",
    "    for f in file:\n",
    "        # if root.find('Original') >= 0:\n",
    "        #     continue\n",
    "        csv_list.append(f)\n",
    "        # print(root.replace('\\\\','//').replace('//','/') + '/' + f)\n",
    "print(f'Total in `{path.replace(\"//\",\"/\")}`: {len(csv_list)} files.')"
   ]
  },
  {
   "cell_type": "code",
   "execution_count": 5,
   "metadata": {},
   "outputs": [
    {
     "name": "stdout",
     "output_type": "stream",
     "text": [
      "Creating table human_names...\n"
     ]
    }
   ],
   "source": [
    "print(f'Creating table {table_name}...')\n",
    "cur.execute(f'CREATE TABLE {table_name} (id serial PRIMARY KEY,  first_name varchar(250), last_name varchar(250), sex varchar(1), country varchar(2));')"
   ]
  },
  {
   "cell_type": "code",
   "execution_count": 6,
   "metadata": {},
   "outputs": [
    {
     "name": "stdout",
     "output_type": "stream",
     "text": [
      "Loading files:\n",
      "\tAE.csv success!\n",
      "\tAF.csv success!\n",
      "\tAL.csv success!\n",
      "\tAO.csv success!\n",
      "\tAR.csv success!\n",
      "\tAT.csv success!\n",
      "\tAZ.csv success!\n",
      "\tBD.csv success!\n",
      "\tBE.csv success!\n",
      "\tBF.csv success!\n",
      "\tBG.csv success!\n",
      "\tBH.csv success!\n",
      "\tBI.csv success!\n",
      "\tBN.csv success!\n",
      "\tBO.csv success!\n",
      "\tBR.csv success!\n",
      "\tBW.csv success!\n",
      "\tCA.csv success!\n",
      "\tCH.csv success!\n",
      "\tCL.csv success!\n",
      "\tCM.csv success!\n",
      "\tCN.csv success!\n",
      "\tCO.csv success!\n",
      "\tCR.csv success!\n",
      "\tCY.csv success!\n",
      "\tCZ.csv success!\n",
      "\tDE.csv success!\n",
      "\tDJ.csv success!\n",
      "\tDK.csv success!\n",
      "\tDZ.csv success!\n",
      "\tEC.csv success!\n",
      "\tEE.csv success!\n",
      "\tEG.csv success!\n",
      "\tES.csv success!\n",
      "\tET.csv success!\n",
      "\tFI.csv success!\n",
      "\tFJ.csv success!\n",
      "\tFR.csv success!\n",
      "\tGB.csv success!\n",
      "\tGE.csv success!\n",
      "\tGH.csv success!\n",
      "\tGR.csv success!\n",
      "\tGT.csv success!\n",
      "\tHK.csv success!\n",
      "\tHN.csv success!\n",
      "\tHR.csv success!\n",
      "\tHT.csv success!\n",
      "\tHU.csv success!\n",
      "\tID.csv success!\n",
      "\tIE.csv success!\n",
      "\tIL.csv success!\n",
      "\tIN.csv success!\n",
      "\tIQ.csv success!\n",
      "\tIR.csv success!\n",
      "\tIS.csv success!\n",
      "\tIT.csv success!\n",
      "\tJM.csv success!\n",
      "\tJO.csv success!\n",
      "\tJP.csv success!\n",
      "\tKH.csv success!\n",
      "\tKR.csv success!\n",
      "\tKW.csv success!\n",
      "\tKZ.csv success!\n",
      "\tLB.csv success!\n",
      "\tLT.csv success!\n",
      "\tLU.csv success!\n",
      "\tLY.csv success!\n",
      "\tMA.csv success!\n",
      "\tMD.csv success!\n",
      "\tMO.csv success!\n",
      "\tMT.csv success!\n",
      "\tMU.csv success!\n",
      "\tMV.csv success!\n",
      "\tMX.csv success!\n",
      "\tMY.csv success!\n",
      "\tNA.csv success!\n",
      "\tNG.csv success!\n",
      "\tNL.csv success!\n",
      "\tNO.csv success!\n",
      "\tOM.csv success!\n",
      "\tPA.csv success!\n",
      "\tPE.csv success!\n",
      "\tPH.csv success!\n",
      "\tPL.csv success!\n",
      "\tPR.csv success!\n",
      "\tPS.csv success!\n",
      "\tPT.csv success!\n",
      "\tQA.csv success!\n",
      "\tRS.csv success!\n",
      "\tRU.csv success!\n",
      "\tSA.csv success!\n",
      "\tSD.csv success!\n",
      "\tSE.csv success!\n",
      "\tSG.csv success!\n",
      "\tSI.csv success!\n",
      "\tSV.csv success!\n",
      "\tSY.csv success!\n",
      "\tTM.csv success!\n",
      "\tTN.csv success!\n",
      "\tTR.csv success!\n",
      "\tTW.csv success!\n",
      "\tUS.csv success!\n",
      "\tUY.csv success!\n",
      "\tYE.csv success!\n",
      "\tZA.csv success!\n",
      "\n",
      "Inserted 491,655,925 total rows.\n",
      "Committing...\n",
      "Committed!\n"
     ]
    }
   ],
   "source": [
    "total_row  = 0\n",
    "print(f'Loading files:')\n",
    "for name_file in csv_list:\n",
    "    with open(path + '//' + name_file, 'r',encoding='utf-8') as file:\n",
    "        try:\n",
    "            file = io.StringIO(file.read().replace('\\\\', '\\\\\\\\'))\n",
    "            cur.copy_from(file, table_name, null='', sep=',', columns=('first_name', 'last_name', 'sex', 'country'))\n",
    "        except:\n",
    "            print(f'\\t{name_file} failed..')\n",
    "        else:\n",
    "            print(f'\\t{name_file} success!')\n",
    "         \n",
    "cur.execute(f'SELECT COUNT(*) FROM {table_name};')\n",
    "print(f'\\nInserted {cur.fetchone()[0]:,} total rows.')\n",
    "\n",
    "print('Committing...')\n",
    "con.commit()\n",
    "print('Committed!')\n",
    "cur.close()\n",
    "con.close()"
   ]
  },
  {
   "cell_type": "code",
   "execution_count": 7,
   "metadata": {},
   "outputs": [
    {
     "name": "stdout",
     "output_type": "stream",
     "text": [
      "<class '_io.TextIOWrapper'>\n",
      "<class '_io.StringIO'>\n"
     ]
    }
   ],
   "source": [
    "with open(path + '//' + 'AE.csv', 'r',encoding='utf-8') as file:\n",
    "    print(type(file))\n",
    "    file = io.StringIO(file.read().replace('\\\\', '\\\\\\\\'))\n",
    "    print(type(file))"
   ]
  }
 ],
 "metadata": {
  "kernelspec": {
   "display_name": "Python 3",
   "language": "python",
   "name": "python3"
  },
  "language_info": {
   "codemirror_mode": {
    "name": "ipython",
    "version": 3
   },
   "file_extension": ".py",
   "mimetype": "text/x-python",
   "name": "python",
   "nbconvert_exporter": "python",
   "pygments_lexer": "ipython3",
   "version": "3.11.4"
  }
 },
 "nbformat": 4,
 "nbformat_minor": 2
}
